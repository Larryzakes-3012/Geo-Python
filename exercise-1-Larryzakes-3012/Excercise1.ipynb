{
 "cells": [
  {
   "cell_type": "code",
   "execution_count": 1,
   "id": "6d37e617-5ce7-4256-a456-6fd5a38f3d81",
   "metadata": {},
   "outputs": [],
   "source": [
    "ice_cream_rating = 3\n",
    "sleeping_rating = 8"
   ]
  },
  {
   "cell_type": "code",
   "execution_count": 3,
   "id": "c23fc130-87db-4767-9866-431e61cf6230",
   "metadata": {},
   "outputs": [
    {
     "name": "stdin",
     "output_type": "stream",
     "text": [
      "Enter Your First Name:  Olanrewaju\n",
      "Enter Your Last Name:  Oludare\n"
     ]
    }
   ],
   "source": [
    "first_name = input(\"Enter Your First Name: \")\n",
    "last_name = input(\"Enter Your Last Name: \")\n",
    "my_name = first_name + \" \" + last_name"
   ]
  },
  {
   "cell_type": "code",
   "execution_count": 4,
   "id": "c32db63b-cb78-4205-9302-e6f012aa8e62",
   "metadata": {},
   "outputs": [],
   "source": [
    "happiness_rating = (ice_cream_rating + sleeping_rating)/2"
   ]
  },
  {
   "cell_type": "code",
   "execution_count": 5,
   "id": "7159db77-e1ad-4de9-b36c-296a9a66d3b2",
   "metadata": {},
   "outputs": [
    {
     "name": "stdout",
     "output_type": "stream",
     "text": [
      "<class 'int'>\n",
      "<class 'str'>\n",
      "<class 'float'>\n"
     ]
    }
   ],
   "source": [
    "print(type(ice_cream_rating))\n",
    "print(type(first_name))\n",
    "print(type(happiness_rating))"
   ]
  },
  {
   "cell_type": "markdown",
   "id": "bbe4cc7b-7abe-49de-86e7-4a5049db4dea",
   "metadata": {},
   "source": [
    "Data type are what is expected. Input data by default are taken to be string type and the average data type was also \n",
    "taken to be floating data type"
   ]
  },
  {
   "cell_type": "code",
   "execution_count": 11,
   "id": "81715955-9b72-49ae-9108-3a462ec28fd6",
   "metadata": {},
   "outputs": [
    {
     "name": "stdout",
     "output_type": "stream",
     "text": [
      "my name is Olanrewaju And i gave eating ice cream a score of 3 out of 10!\n"
     ]
    }
   ],
   "source": [
    "print(f\"my name is {first_name} And i gave eating ice cream a score of {str(ice_cream_rating) } out of 10!\")"
   ]
  },
  {
   "cell_type": "code",
   "execution_count": 13,
   "id": "1b28ddfb-176b-4557-9f04-4445f0ff0a65",
   "metadata": {},
   "outputs": [
    {
     "name": "stdout",
     "output_type": "stream",
     "text": [
      "I am  Olanrewaju Oludare   and my sleeping enjoyment rating is 8 /10!\n"
     ]
    }
   ],
   "source": [
    "print(f\"I am  { my_name}   and my sleeping enjoyment rating is { str(sleeping_rating)} /10!\") "
   ]
  },
  {
   "cell_type": "code",
   "execution_count": 20,
   "id": "9d839b57-490f-45a6-b0ec-81e73389ca0d",
   "metadata": {},
   "outputs": [
    {
     "name": "stdout",
     "output_type": "stream",
     "text": [
      "Based on the factors above, my happiness rating is 5.5   out of 10 or  55.0  %!\n"
     ]
    }
   ],
   "source": [
    "print(f\"Based on the factors above, my happiness rating is {str( happiness_rating)}   out of 10 or  {str(happiness_rating *10)}  %!\")"
   ]
  },
  {
   "cell_type": "code",
   "execution_count": null,
   "id": "2927934b-0005-49d3-995f-f9e28b2f7e06",
   "metadata": {},
   "outputs": [],
   "source": []
  },
  {
   "cell_type": "code",
   "execution_count": null,
   "id": "31c0f977-d9f1-44b1-b6a6-9058d22d207c",
   "metadata": {},
   "outputs": [],
   "source": []
  }
 ],
 "metadata": {
  "kernelspec": {
   "display_name": "Python 3 (ipykernel)",
   "language": "python",
   "name": "python3"
  },
  "language_info": {
   "codemirror_mode": {
    "name": "ipython",
    "version": 3
   },
   "file_extension": ".py",
   "mimetype": "text/x-python",
   "name": "python",
   "nbconvert_exporter": "python",
   "pygments_lexer": "ipython3",
   "version": "3.10.8"
  }
 },
 "nbformat": 4,
 "nbformat_minor": 5
}
