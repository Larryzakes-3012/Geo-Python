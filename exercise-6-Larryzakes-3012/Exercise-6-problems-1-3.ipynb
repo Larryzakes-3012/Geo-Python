{
 "cells": [
  {
   "cell_type": "markdown",
   "metadata": {
    "deletable": false,
    "editable": false,
    "nbgrader": {
     "cell_type": "markdown",
     "checksum": "cd38ffc4a1e649ef289290fcf06e8dea",
     "grade": false,
     "grade_id": "cell-f2d00c67ecd9e7dc",
     "locked": true,
     "schema_version": 3,
     "solution": false
    }
   },
   "source": [
    "# Exercise 6: Weather anomalies (10 points)\n",
    "\n",
    "The aim of this exercise is to analyze historical weather data. In Problem 1 you read in a tricky data file and explore it's contents. In problem 2, you will convert and aggregate the data from daily temperatures in Fahrenheit, to monthly average temperatures in Celsius. In Problem 3, you will finally analyze weather anomalies by comparing monthly average temperatures to a long-term average.\n",
    "\n",
    "### Tips for completing this exercise\n",
    "\n",
    "- Use **exactly** the same variable names as in the instructions because your answers will be automatically graded, and the tests that grade your answers rely on following the same formatting or variable naming as in the instructions.\n",
    "- **Please do not**:\n",
    "\n",
    "    - **Change the file names**. Do all of your editing in the provided `Exercise-6-problems-1-3.ipynb` file (this file).\n",
    "    - **Copy/paste cells in this notebook**. We use an automated grading system that will fail if there are copies of code cells.\n",
    "    - **Change the existing cell types**. You can add cells, but changing the cell types for existing cells (from code to markdown, for example) will also cause the automated grader to fail. \n",
    "\n",
    "## Problem 1 - Reading in a tricky data file (2 points)\n",
    "\n",
    "You first task for this exercise is to read in the data file [data/1091402.txt](data/1091402.txt) to a variable called `data`. Pay attention to the input data structure and no data values.\n",
    "\n",
    "### Scores for this problem\n",
    "\n",
    "**Your score on this problem will be based on following criteria:**\n",
    "\n",
    "- Reading the data into a variable called `data` using pandas\n",
    "    - Skipping the second row of the datafile that contains `----------` characters that don't belong to the data\n",
    "    - Convert the no-data values (`-9999`) into `NaN` \n",
    "- Calculating basic statistics from the data\n",
    "- Including comments that explain what most lines in the code do"
   ]
  },
  {
   "cell_type": "markdown",
   "metadata": {
    "deletable": false,
    "editable": false,
    "nbgrader": {
     "cell_type": "markdown",
     "checksum": "3d3d5961ecc23756da67c59b0053a8e9",
     "grade": false,
     "grade_id": "cell-52cc9f4650eada57",
     "locked": true,
     "schema_version": 3,
     "solution": false
    }
   },
   "source": [
    "### Part 1 (1 point)\n",
    "\n",
    "You should start by loading the data file.\n",
    "\n",
    "- Read the data file into variable the variable `data`\n",
    "    - Skip the second row\n",
    "    - Convert the no-data values (`-9999`) into `NaN`"
   ]
  },
  {
   "cell_type": "code",
   "execution_count": 3,
   "metadata": {
    "deletable": false,
    "nbgrader": {
     "cell_type": "code",
     "checksum": "81d2861b4a08146fdb3993c78a858168",
     "grade": false,
     "grade_id": "problem_1_ag_p1_read_file",
     "locked": false,
     "schema_version": 3,
     "solution": true
    }
   },
   "outputs": [],
   "source": [
    "import pandas as pd\n",
    "fp = \"data/1091402.txt\"\n",
    "data = pd.read_csv(fp,delim_whitespace = True, skiprows = [1], na_values = '-9999.00', header = 0)\n",
    "\n",
    "# YOUR CODE HERE\n",
    "# i have forced pd to read -9999.00 as an NaN values\n",
    "# i haved skipped row index [1] out of the data to be read by pd"
   ]
  },
  {
   "cell_type": "code",
   "execution_count": 4,
   "metadata": {
    "deletable": false,
    "editable": false,
    "nbgrader": {
     "cell_type": "code",
     "checksum": "4f2d002e5558bd4102cb11bd7a92436a",
     "grade": true,
     "grade_id": "problem_1_ag_p1_read_file_tests1",
     "locked": true,
     "points": 0.5,
     "schema_version": 3,
     "solution": false
    }
   },
   "outputs": [
    {
     "data": {
      "text/html": [
       "<div>\n",
       "<style scoped>\n",
       "    .dataframe tbody tr th:only-of-type {\n",
       "        vertical-align: middle;\n",
       "    }\n",
       "\n",
       "    .dataframe tbody tr th {\n",
       "        vertical-align: top;\n",
       "    }\n",
       "\n",
       "    .dataframe thead th {\n",
       "        text-align: right;\n",
       "    }\n",
       "</style>\n",
       "<table border=\"1\" class=\"dataframe\">\n",
       "  <thead>\n",
       "    <tr style=\"text-align: right;\">\n",
       "      <th></th>\n",
       "      <th>STATION</th>\n",
       "      <th>ELEVATION</th>\n",
       "      <th>LATITUDE</th>\n",
       "      <th>LONGITUDE</th>\n",
       "      <th>DATE</th>\n",
       "      <th>PRCP</th>\n",
       "      <th>TAVG</th>\n",
       "      <th>TMAX</th>\n",
       "      <th>TMIN</th>\n",
       "    </tr>\n",
       "  </thead>\n",
       "  <tbody>\n",
       "    <tr>\n",
       "      <th>0</th>\n",
       "      <td>-----------------</td>\n",
       "      <td>----------</td>\n",
       "      <td>----------</td>\n",
       "      <td>----------</td>\n",
       "      <td>--------</td>\n",
       "      <td>--------</td>\n",
       "      <td>--------</td>\n",
       "      <td>--------</td>\n",
       "      <td>--------</td>\n",
       "    </tr>\n",
       "    <tr>\n",
       "      <th>1</th>\n",
       "      <td>GHCND:FIE00142080</td>\n",
       "      <td>51</td>\n",
       "      <td>60.3269</td>\n",
       "      <td>24.9603</td>\n",
       "      <td>19520101</td>\n",
       "      <td>0.31</td>\n",
       "      <td>37</td>\n",
       "      <td>39</td>\n",
       "      <td>34</td>\n",
       "    </tr>\n",
       "    <tr>\n",
       "      <th>2</th>\n",
       "      <td>GHCND:FIE00142080</td>\n",
       "      <td>51</td>\n",
       "      <td>60.3269</td>\n",
       "      <td>24.9603</td>\n",
       "      <td>19520102</td>\n",
       "      <td>NaN</td>\n",
       "      <td>35</td>\n",
       "      <td>37</td>\n",
       "      <td>34</td>\n",
       "    </tr>\n",
       "    <tr>\n",
       "      <th>3</th>\n",
       "      <td>GHCND:FIE00142080</td>\n",
       "      <td>51</td>\n",
       "      <td>60.3269</td>\n",
       "      <td>24.9603</td>\n",
       "      <td>19520103</td>\n",
       "      <td>0.14</td>\n",
       "      <td>33</td>\n",
       "      <td>36</td>\n",
       "      <td>NaN</td>\n",
       "    </tr>\n",
       "    <tr>\n",
       "      <th>4</th>\n",
       "      <td>GHCND:FIE00142080</td>\n",
       "      <td>51</td>\n",
       "      <td>60.3269</td>\n",
       "      <td>24.9603</td>\n",
       "      <td>19520104</td>\n",
       "      <td>0.05</td>\n",
       "      <td>29</td>\n",
       "      <td>30</td>\n",
       "      <td>25</td>\n",
       "    </tr>\n",
       "  </tbody>\n",
       "</table>\n",
       "</div>"
      ],
      "text/plain": [
       "             STATION   ELEVATION    LATITUDE   LONGITUDE      DATE      PRCP  \\\n",
       "0  -----------------  ----------  ----------  ----------  --------  --------   \n",
       "1  GHCND:FIE00142080          51     60.3269     24.9603  19520101      0.31   \n",
       "2  GHCND:FIE00142080          51     60.3269     24.9603  19520102       NaN   \n",
       "3  GHCND:FIE00142080          51     60.3269     24.9603  19520103      0.14   \n",
       "4  GHCND:FIE00142080          51     60.3269     24.9603  19520104      0.05   \n",
       "\n",
       "       TAVG      TMAX      TMIN  \n",
       "0  --------  --------  --------  \n",
       "1        37        39        34  \n",
       "2        35        37        34  \n",
       "3        33        36       NaN  \n",
       "4        29        30        25  "
      ]
     },
     "execution_count": 7,
     "metadata": {},
     "output_type": "execute_result"
    }
   ],
   "source": [
    "# Check that the dataframe looks ok:\n",
    "data.head()"
   ]
  },
  {
   "cell_type": "code",
   "execution_count": null,
   "metadata": {
    "deletable": false,
    "editable": false,
    "nbgrader": {
     "cell_type": "code",
     "checksum": "4085783ee6c0b8ce20df6135dbd3918a",
     "grade": true,
     "grade_id": "problem_1_ag_p1_read_file_tests2",
     "locked": true,
     "points": 0.5,
     "schema_version": 3,
     "solution": false
    }
   },
   "outputs": [],
   "source": []
  },
  {
   "cell_type": "code",
   "execution_count": 5,
   "metadata": {
    "deletable": false,
    "editable": false,
    "nbgrader": {
     "cell_type": "code",
     "checksum": "4085783ee6c0b8ce20df6135dbd3918a",
     "grade": true,
     "grade_id": "problem_1_ag_p1_read_file_tests2",
     "locked": true,
     "points": 0.5,
     "schema_version": 3,
     "solution": false
    }
   },
   "outputs": [
    {
     "data": {
      "text/html": [
       "<div>\n",
       "<style scoped>\n",
       "    .dataframe tbody tr th:only-of-type {\n",
       "        vertical-align: middle;\n",
       "    }\n",
       "\n",
       "    .dataframe tbody tr th {\n",
       "        vertical-align: top;\n",
       "    }\n",
       "\n",
       "    .dataframe thead th {\n",
       "        text-align: right;\n",
       "    }\n",
       "</style>\n",
       "<table border=\"1\" class=\"dataframe\">\n",
       "  <thead>\n",
       "    <tr style=\"text-align: right;\">\n",
       "      <th></th>\n",
       "      <th>STATION</th>\n",
       "      <th>ELEVATION</th>\n",
       "      <th>LATITUDE</th>\n",
       "      <th>LONGITUDE</th>\n",
       "      <th>DATE</th>\n",
       "      <th>PRCP</th>\n",
       "      <th>TAVG</th>\n",
       "      <th>TMAX</th>\n",
       "      <th>TMIN</th>\n",
       "    </tr>\n",
       "  </thead>\n",
       "  <tbody>\n",
       "    <tr>\n",
       "      <th>23711</th>\n",
       "      <td>GHCND:FIE00142080</td>\n",
       "      <td>51</td>\n",
       "      <td>60.3269</td>\n",
       "      <td>24.9603</td>\n",
       "      <td>20170930</td>\n",
       "      <td>NaN</td>\n",
       "      <td>47.0</td>\n",
       "      <td>49.0</td>\n",
       "      <td>44.0</td>\n",
       "    </tr>\n",
       "    <tr>\n",
       "      <th>23712</th>\n",
       "      <td>GHCND:FIE00142080</td>\n",
       "      <td>51</td>\n",
       "      <td>60.3269</td>\n",
       "      <td>24.9603</td>\n",
       "      <td>20171001</td>\n",
       "      <td>0.04</td>\n",
       "      <td>47.0</td>\n",
       "      <td>48.0</td>\n",
       "      <td>45.0</td>\n",
       "    </tr>\n",
       "    <tr>\n",
       "      <th>23713</th>\n",
       "      <td>GHCND:FIE00142080</td>\n",
       "      <td>51</td>\n",
       "      <td>60.3269</td>\n",
       "      <td>24.9603</td>\n",
       "      <td>20171002</td>\n",
       "      <td>NaN</td>\n",
       "      <td>47.0</td>\n",
       "      <td>49.0</td>\n",
       "      <td>46.0</td>\n",
       "    </tr>\n",
       "    <tr>\n",
       "      <th>23714</th>\n",
       "      <td>GHCND:FIE00142080</td>\n",
       "      <td>51</td>\n",
       "      <td>60.3269</td>\n",
       "      <td>24.9603</td>\n",
       "      <td>20171003</td>\n",
       "      <td>0.94</td>\n",
       "      <td>47.0</td>\n",
       "      <td>NaN</td>\n",
       "      <td>44.0</td>\n",
       "    </tr>\n",
       "    <tr>\n",
       "      <th>23715</th>\n",
       "      <td>GHCND:FIE00142080</td>\n",
       "      <td>51</td>\n",
       "      <td>60.3269</td>\n",
       "      <td>24.9603</td>\n",
       "      <td>20171004</td>\n",
       "      <td>0.51</td>\n",
       "      <td>52.0</td>\n",
       "      <td>56.0</td>\n",
       "      <td>NaN</td>\n",
       "    </tr>\n",
       "  </tbody>\n",
       "</table>\n",
       "</div>"
      ],
      "text/plain": [
       "                 STATION  ELEVATION  LATITUDE  LONGITUDE      DATE  PRCP  \\\n",
       "23711  GHCND:FIE00142080         51   60.3269    24.9603  20170930   NaN   \n",
       "23712  GHCND:FIE00142080         51   60.3269    24.9603  20171001  0.04   \n",
       "23713  GHCND:FIE00142080         51   60.3269    24.9603  20171002   NaN   \n",
       "23714  GHCND:FIE00142080         51   60.3269    24.9603  20171003  0.94   \n",
       "23715  GHCND:FIE00142080         51   60.3269    24.9603  20171004  0.51   \n",
       "\n",
       "       TAVG  TMAX  TMIN  \n",
       "23711  47.0  49.0  44.0  \n",
       "23712  47.0  48.0  45.0  \n",
       "23713  47.0  49.0  46.0  \n",
       "23714  47.0   NaN  44.0  \n",
       "23715  52.0  56.0   NaN  "
      ]
     },
     "execution_count": 5,
     "metadata": {},
     "output_type": "execute_result"
    }
   ],
   "source": [
    "# Check the last rows of the data (there should be some NaN values)\n",
    "data.tail()"
   ]
  },
  {
   "cell_type": "markdown",
   "metadata": {
    "deletable": false,
    "editable": false,
    "nbgrader": {
     "cell_type": "markdown",
     "checksum": "22383202dca202e2ea6a9c2df0984a96",
     "grade": false,
     "grade_id": "cell-7f848d5f8acf3a0f",
     "locked": true,
     "schema_version": 3,
     "solution": false
    }
   },
   "source": [
    "### Part 2 (1 point)\n",
    "\n",
    "In this section, you will calculate some basic statistics of the input data.\n",
    "\n",
    "- Calculate how many no-data (NaN) values there are in the `TAVG` column\n",
    "    - Assign your answer to a variable called `tavg_nodata_count`"
   ]
  },
  {
   "cell_type": "code",
   "execution_count": 160,
   "metadata": {
    "deletable": false,
    "nbgrader": {
     "cell_type": "code",
     "checksum": "5dc920edd67206c7cd72e1e908aa0ecb",
     "grade": false,
     "grade_id": "problem_1_ag_p2_tavg_nodata_count",
     "locked": false,
     "schema_version": 3,
     "solution": true
    }
   },
   "outputs": [],
   "source": [
    "tavg_nodata_count = (data[\"TAVG\"]).isna().sum()\n",
    "# DataFrame.isna().sum() counts the numbers of NaN in TAVG column\n",
    "# YOUR CODE HERE"
   ]
  },
  {
   "cell_type": "code",
   "execution_count": 161,
   "metadata": {
    "deletable": false,
    "editable": false,
    "nbgrader": {
     "cell_type": "code",
     "checksum": "3bf7578df074c2a60538c0e1ecb9952a",
     "grade": true,
     "grade_id": "problem_1_ag_p2_tavg_nodata_count_test1",
     "locked": true,
     "points": 0.2,
     "schema_version": 3,
     "solution": false
    }
   },
   "outputs": [
    {
     "name": "stdout",
     "output_type": "stream",
     "text": [
      "Number of no-data values in column \"TAVG\": 3308\n"
     ]
    }
   ],
   "source": [
    "# Print out the solution:\n",
    "print(f'Number of no-data values in column \"TAVG\": {tavg_nodata_count}')"
   ]
  },
  {
   "cell_type": "markdown",
   "metadata": {
    "deletable": false,
    "editable": false,
    "nbgrader": {
     "cell_type": "markdown",
     "checksum": "55529fa822f09b326b39216eedf07783",
     "grade": false,
     "grade_id": "cell-600c96096b421522",
     "locked": true,
     "schema_version": 3,
     "solution": false
    }
   },
   "source": [
    "- Calculate how many no-data (NaN) values there are for the `TMIN` column\n",
    "    - Assign your answer into a variable called `tmin_nodata_count`"
   ]
  },
  {
   "cell_type": "code",
   "execution_count": 162,
   "metadata": {
    "deletable": false,
    "nbgrader": {
     "cell_type": "code",
     "checksum": "05106868364a3bae579a286fb230149c",
     "grade": false,
     "grade_id": "problem_1_ag_p2_tmin_nodata_count",
     "locked": false,
     "schema_version": 3,
     "solution": true
    }
   },
   "outputs": [],
   "source": [
    "tmin_nodata_count = (data[\"TMIN\"]).isna().sum()\n",
    "\n",
    "# YOUR CODE HERE\n"
   ]
  },
  {
   "cell_type": "code",
   "execution_count": 163,
   "metadata": {
    "deletable": false,
    "editable": false,
    "nbgrader": {
     "cell_type": "code",
     "checksum": "30c08818ec1b25c5607b75c100300ad2",
     "grade": true,
     "grade_id": "problem_1_tmin_nodata_count_test1",
     "locked": true,
     "points": 0.2,
     "schema_version": 3,
     "solution": false
    }
   },
   "outputs": [
    {
     "name": "stdout",
     "output_type": "stream",
     "text": [
      "Number of no-data values in column \"TMIN\": 365\n"
     ]
    }
   ],
   "source": [
    "# Print out the solution:\n",
    "print(f'Number of no-data values in column \"TMIN\": {tmin_nodata_count}')"
   ]
  },
  {
   "cell_type": "code",
   "execution_count": 164,
   "metadata": {},
   "outputs": [],
   "source": [
    "# there is a larger numbers of NaN in TAVG than in TMIN"
   ]
  },
  {
   "cell_type": "markdown",
   "metadata": {
    "deletable": false,
    "editable": false,
    "nbgrader": {
     "cell_type": "markdown",
     "checksum": "908ddb381122ee0dcfaef62e3d3b8173",
     "grade": false,
     "grade_id": "cell-25998b4f0d14e8f0",
     "locked": true,
     "schema_version": 3,
     "solution": false
    }
   },
   "source": [
    "- Calculate the total number of days covered by this data file\n",
    "    - Assign your answer into a variable called `day_count`"
   ]
  },
  {
   "cell_type": "code",
   "execution_count": 165,
   "metadata": {
    "deletable": false,
    "nbgrader": {
     "cell_type": "code",
     "checksum": "e189e68edd84e8970954ca097e5fe104",
     "grade": false,
     "grade_id": "problem_1_ag_p2_day_count",
     "locked": false,
     "schema_version": 3,
     "solution": true
    }
   },
   "outputs": [],
   "source": [
    "data[\"DATE_STR\"] = data[\"DATE\"].astype(str)\n",
    "\n",
    "data[\"YEAR\"] = data[\"DATE_STR\"].str.slice(start = 0, stop = 4)\n",
    "data[\"YEAR_MONTH\"] = data[\"DATE_STR\"].str.slice(start = 0, stop = 6)\n",
    "data[\"MONTH\"] = data[\"DATE_STR\"].str.slice(start = 4, stop = 6)\n",
    "data[\"DAYS\"] = data[\"DATE_STR\"].str.slice(start = 6, stop = 8)\n",
    "#day_count = data[\"DAYS\"].count()\n",
    "\n",
    "# YOUR CODE HERE\n",
    "# I have checked column DATE is an int data type. This has to be converted to str data type\n",
    "# we need to convert the DATE column to DATE_STR string data type for slicing operation \n",
    "# to get the days character "
   ]
  },
  {
   "cell_type": "code",
   "execution_count": 166,
   "metadata": {},
   "outputs": [
    {
     "data": {
      "text/plain": [
       "23711    201709\n",
       "23712    201710\n",
       "23713    201710\n",
       "23714    201710\n",
       "23715    201710\n",
       "Name: YEAR_MONTH, dtype: object"
      ]
     },
     "execution_count": 166,
     "metadata": {},
     "output_type": "execute_result"
    }
   ],
   "source": [
    "data[\"YEAR_MONTH\"].tail()"
   ]
  },
  {
   "cell_type": "code",
   "execution_count": 167,
   "metadata": {},
   "outputs": [],
   "source": [
    "data[\"DAYS\"].head()\n",
    "# the count method counts the number of cells with input except a NaN\n",
    "day_count = data[\"DAYS\"].count()"
   ]
  },
  {
   "cell_type": "code",
   "execution_count": 168,
   "metadata": {
    "deletable": false,
    "editable": false,
    "nbgrader": {
     "cell_type": "code",
     "checksum": "f1c8e6f147674b12605b43b9a47d55b6",
     "grade": true,
     "grade_id": "problem_1_ag_p2_day_count_test1",
     "locked": true,
     "points": 0.1,
     "schema_version": 3,
     "solution": false
    }
   },
   "outputs": [
    {
     "name": "stdout",
     "output_type": "stream",
     "text": [
      "Number of days: 23716\n"
     ]
    }
   ],
   "source": [
    "# Print out the solution:\n",
    "print(f'Number of days: {day_count}')"
   ]
  },
  {
   "cell_type": "markdown",
   "metadata": {
    "deletable": false,
    "editable": false,
    "nbgrader": {
     "cell_type": "markdown",
     "checksum": "9cad6f0caab2312ddba764c48fe512cf",
     "grade": false,
     "grade_id": "cell-424dcdef3dde1b89",
     "locked": true,
     "schema_version": 3,
     "solution": false
    }
   },
   "source": [
    "- Find the date of the oldest (first) observation\n",
    "    - Assign your answer into a variable called `first_obs`"
   ]
  },
  {
   "cell_type": "code",
   "execution_count": 169,
   "metadata": {
    "deletable": false,
    "nbgrader": {
     "cell_type": "code",
     "checksum": "4ba7a15891f54d125bb9d0bbcd0611f6",
     "grade": false,
     "grade_id": "problem_1_ag_p2_first_observation",
     "locked": false,
     "schema_version": 3,
     "solution": true
    }
   },
   "outputs": [],
   "source": [
    "first_obs = data.sort_values(by = \"DATE\", ascending = True).at[0,\"DATE\"]\n",
    "\n",
    "# YOUR CODE HERE\n",
    "# there is no keyword descending in pandas"
   ]
  },
  {
   "cell_type": "code",
   "execution_count": 170,
   "metadata": {
    "deletable": false,
    "editable": false,
    "nbgrader": {
     "cell_type": "code",
     "checksum": "f566ede9d825ed391af49235124382d2",
     "grade": true,
     "grade_id": "problem_1_ag_p2_first_observation_test1",
     "locked": true,
     "points": 0.1,
     "schema_version": 3,
     "solution": false
    }
   },
   "outputs": [
    {
     "name": "stdout",
     "output_type": "stream",
     "text": [
      "Date of the first observation: 19520101\n"
     ]
    }
   ],
   "source": [
    "# Print out the solution:\n",
    "print(f'Date of the first observation: {first_obs}')"
   ]
  },
  {
   "cell_type": "markdown",
   "metadata": {
    "deletable": false,
    "editable": false,
    "nbgrader": {
     "cell_type": "markdown",
     "checksum": "79af6f07754be8b7f201fef854f0c911",
     "grade": false,
     "grade_id": "cell-1a9a82e0f837ac34",
     "locked": true,
     "schema_version": 3,
     "solution": false
    }
   },
   "source": [
    "- Find the date of the most recent (last) observation\n",
    "    - Assign your answer into a variable called `last_obs`"
   ]
  },
  {
   "cell_type": "code",
   "execution_count": 171,
   "metadata": {
    "deletable": false,
    "nbgrader": {
     "cell_type": "code",
     "checksum": "3fc2457aff864a11b9aa5ad82e9165e2",
     "grade": false,
     "grade_id": "problem_1_ag_p2_last_observation",
     "locked": false,
     "schema_version": 3,
     "solution": true
    }
   },
   "outputs": [],
   "source": [
    "last_obs = data.sort_values(by = \"DATE\", ascending = False)\n",
    "\n",
    "last_obs = last_obs.at[23715, \"DATE\"]\n",
    "\n",
    "# YOUR CODE HERE\n"
   ]
  },
  {
   "cell_type": "code",
   "execution_count": 172,
   "metadata": {
    "deletable": false,
    "editable": false,
    "nbgrader": {
     "cell_type": "code",
     "checksum": "5e4371829dbfb5eff482de60ee976881",
     "grade": true,
     "grade_id": "problem_1_ag_p2_last_observation_test1",
     "locked": true,
     "points": 0.1,
     "schema_version": 3,
     "solution": false
    }
   },
   "outputs": [
    {
     "name": "stdout",
     "output_type": "stream",
     "text": [
      "Date of the last observation: 20171004\n"
     ]
    }
   ],
   "source": [
    "# Print out the solution:\n",
    "print(f'Date of the last observation: {last_obs}')\n"
   ]
  },
  {
   "cell_type": "markdown",
   "metadata": {
    "deletable": false,
    "editable": false,
    "nbgrader": {
     "cell_type": "markdown",
     "checksum": "131ae54b07359d9ce8453074f0106fc2",
     "grade": false,
     "grade_id": "cell-3fbd149c1e58a16c",
     "locked": true,
     "schema_version": 3,
     "solution": false
    }
   },
   "source": [
    "- Find the average temperature for the whole data file (all observtions) from column `TAVG`\n",
    "    - Assign your answer into a variable called `avg_temp`"
   ]
  },
  {
   "cell_type": "code",
   "execution_count": 173,
   "metadata": {
    "deletable": false,
    "nbgrader": {
     "cell_type": "code",
     "checksum": "298d692248344926a86003d5c8abfd5b",
     "grade": false,
     "grade_id": "problem_1_ag_p2_avg_temp",
     "locked": false,
     "schema_version": 3,
     "solution": true
    }
   },
   "outputs": [],
   "source": [
    "avg_temp = data[\"TAVG\"].mean()\n",
    "\n",
    "# YOUR CODE HERE\n"
   ]
  },
  {
   "cell_type": "code",
   "execution_count": 174,
   "metadata": {
    "deletable": false,
    "editable": false,
    "nbgrader": {
     "cell_type": "code",
     "checksum": "40b513b4e924c76f528544ec8a94e645",
     "grade": true,
     "grade_id": "problem_1_ag_p2_avg_temp_test1",
     "locked": true,
     "points": 0.1,
     "schema_version": 3,
     "solution": false
    }
   },
   "outputs": [
    {
     "name": "stdout",
     "output_type": "stream",
     "text": [
      "Average temperature (F) for the whole dataset: 41.32\n"
     ]
    }
   ],
   "source": [
    "# Print out the solution:\n",
    "print(f'Average temperature (F) for the whole dataset: {round(avg_temp, 2)}')"
   ]
  },
  {
   "cell_type": "code",
   "execution_count": 175,
   "metadata": {},
   "outputs": [
    {
     "data": {
      "text/html": [
       "<div>\n",
       "<style scoped>\n",
       "    .dataframe tbody tr th:only-of-type {\n",
       "        vertical-align: middle;\n",
       "    }\n",
       "\n",
       "    .dataframe tbody tr th {\n",
       "        vertical-align: top;\n",
       "    }\n",
       "\n",
       "    .dataframe thead th {\n",
       "        text-align: right;\n",
       "    }\n",
       "</style>\n",
       "<table border=\"1\" class=\"dataframe\">\n",
       "  <thead>\n",
       "    <tr style=\"text-align: right;\">\n",
       "      <th></th>\n",
       "      <th>STATION</th>\n",
       "      <th>ELEVATION</th>\n",
       "      <th>LATITUDE</th>\n",
       "      <th>LONGITUDE</th>\n",
       "      <th>DATE</th>\n",
       "      <th>PRCP</th>\n",
       "      <th>TAVG</th>\n",
       "      <th>TMAX</th>\n",
       "      <th>TMIN</th>\n",
       "      <th>DATE_STR</th>\n",
       "      <th>YEAR</th>\n",
       "      <th>YEAR_MONTH</th>\n",
       "      <th>MONTH</th>\n",
       "      <th>DAYS</th>\n",
       "    </tr>\n",
       "  </thead>\n",
       "  <tbody>\n",
       "    <tr>\n",
       "      <th>0</th>\n",
       "      <td>GHCND:FIE00142080</td>\n",
       "      <td>51</td>\n",
       "      <td>60.3269</td>\n",
       "      <td>24.9603</td>\n",
       "      <td>19520101</td>\n",
       "      <td>0.31</td>\n",
       "      <td>37.0</td>\n",
       "      <td>39.0</td>\n",
       "      <td>34.0</td>\n",
       "      <td>19520101</td>\n",
       "      <td>1952</td>\n",
       "      <td>195201</td>\n",
       "      <td>01</td>\n",
       "      <td>01</td>\n",
       "    </tr>\n",
       "    <tr>\n",
       "      <th>1</th>\n",
       "      <td>GHCND:FIE00142080</td>\n",
       "      <td>51</td>\n",
       "      <td>60.3269</td>\n",
       "      <td>24.9603</td>\n",
       "      <td>19520102</td>\n",
       "      <td>NaN</td>\n",
       "      <td>35.0</td>\n",
       "      <td>37.0</td>\n",
       "      <td>34.0</td>\n",
       "      <td>19520102</td>\n",
       "      <td>1952</td>\n",
       "      <td>195201</td>\n",
       "      <td>01</td>\n",
       "      <td>02</td>\n",
       "    </tr>\n",
       "    <tr>\n",
       "      <th>2</th>\n",
       "      <td>GHCND:FIE00142080</td>\n",
       "      <td>51</td>\n",
       "      <td>60.3269</td>\n",
       "      <td>24.9603</td>\n",
       "      <td>19520103</td>\n",
       "      <td>0.14</td>\n",
       "      <td>33.0</td>\n",
       "      <td>36.0</td>\n",
       "      <td>NaN</td>\n",
       "      <td>19520103</td>\n",
       "      <td>1952</td>\n",
       "      <td>195201</td>\n",
       "      <td>01</td>\n",
       "      <td>03</td>\n",
       "    </tr>\n",
       "    <tr>\n",
       "      <th>3</th>\n",
       "      <td>GHCND:FIE00142080</td>\n",
       "      <td>51</td>\n",
       "      <td>60.3269</td>\n",
       "      <td>24.9603</td>\n",
       "      <td>19520104</td>\n",
       "      <td>0.05</td>\n",
       "      <td>29.0</td>\n",
       "      <td>30.0</td>\n",
       "      <td>25.0</td>\n",
       "      <td>19520104</td>\n",
       "      <td>1952</td>\n",
       "      <td>195201</td>\n",
       "      <td>01</td>\n",
       "      <td>04</td>\n",
       "    </tr>\n",
       "    <tr>\n",
       "      <th>4</th>\n",
       "      <td>GHCND:FIE00142080</td>\n",
       "      <td>51</td>\n",
       "      <td>60.3269</td>\n",
       "      <td>24.9603</td>\n",
       "      <td>19520105</td>\n",
       "      <td>0.06</td>\n",
       "      <td>27.0</td>\n",
       "      <td>30.0</td>\n",
       "      <td>25.0</td>\n",
       "      <td>19520105</td>\n",
       "      <td>1952</td>\n",
       "      <td>195201</td>\n",
       "      <td>01</td>\n",
       "      <td>05</td>\n",
       "    </tr>\n",
       "  </tbody>\n",
       "</table>\n",
       "</div>"
      ],
      "text/plain": [
       "             STATION  ELEVATION  LATITUDE  LONGITUDE      DATE  PRCP  TAVG  \\\n",
       "0  GHCND:FIE00142080         51   60.3269    24.9603  19520101  0.31  37.0   \n",
       "1  GHCND:FIE00142080         51   60.3269    24.9603  19520102   NaN  35.0   \n",
       "2  GHCND:FIE00142080         51   60.3269    24.9603  19520103  0.14  33.0   \n",
       "3  GHCND:FIE00142080         51   60.3269    24.9603  19520104  0.05  29.0   \n",
       "4  GHCND:FIE00142080         51   60.3269    24.9603  19520105  0.06  27.0   \n",
       "\n",
       "   TMAX  TMIN  DATE_STR  YEAR YEAR_MONTH MONTH DAYS  \n",
       "0  39.0  34.0  19520101  1952     195201    01   01  \n",
       "1  37.0  34.0  19520102  1952     195201    01   02  \n",
       "2  36.0   NaN  19520103  1952     195201    01   03  \n",
       "3  30.0  25.0  19520104  1952     195201    01   04  \n",
       "4  30.0  25.0  19520105  1952     195201    01   05  "
      ]
     },
     "execution_count": 175,
     "metadata": {},
     "output_type": "execute_result"
    }
   ],
   "source": [
    "data.head()\n"
   ]
  },
  {
   "cell_type": "markdown",
   "metadata": {
    "deletable": false,
    "editable": false,
    "nbgrader": {
     "cell_type": "markdown",
     "checksum": "413f5bc8bb8db591d81ed1b76a04ae7f",
     "grade": false,
     "grade_id": "cell-784617d6edc656a6",
     "locked": true,
     "schema_version": 3,
     "solution": false
    }
   },
   "source": [
    "- Find the average `TMAX` temperature over the Summer of 1969 (months May, June, July, and August of the year 1969)\n",
    "    - Assign your answer into a variable called `avg_temp_1969`"
   ]
  },
  {
   "cell_type": "code",
   "execution_count": 176,
   "metadata": {
    "deletable": false,
    "nbgrader": {
     "cell_type": "code",
     "checksum": "137e6d29791dbd47e38adf54144ee8ef",
     "grade": false,
     "grade_id": "problem_1_ag_p2_avg_temp_69",
     "locked": false,
     "schema_version": 3,
     "solution": true
    }
   },
   "outputs": [],
   "source": [
    "# YOUR CODE HERE\n",
    "# we need data of 1969 \n",
    "year_1969 = data[(data[\"YEAR\"] ==\"1969\")]\n",
    "\n",
    "# we can then select data for the daily data in the summer months from DATE_STR column\n",
    "summer_months = year_1969.loc[(year_1969[\"DATE_STR\"]>\"19690501\") & (year_1969[\"DATE_STR\"]< \"19690830\")]\n",
    "# we then calculate mean temperature of the data\n",
    "avg_temp_1969 = summer_months[\"TMAX\"].mean()"
   ]
  },
  {
   "cell_type": "code",
   "execution_count": 177,
   "metadata": {},
   "outputs": [
    {
     "data": {
      "text/html": [
       "<div>\n",
       "<style scoped>\n",
       "    .dataframe tbody tr th:only-of-type {\n",
       "        vertical-align: middle;\n",
       "    }\n",
       "\n",
       "    .dataframe tbody tr th {\n",
       "        vertical-align: top;\n",
       "    }\n",
       "\n",
       "    .dataframe thead th {\n",
       "        text-align: right;\n",
       "    }\n",
       "</style>\n",
       "<table border=\"1\" class=\"dataframe\">\n",
       "  <thead>\n",
       "    <tr style=\"text-align: right;\">\n",
       "      <th></th>\n",
       "      <th>STATION</th>\n",
       "      <th>ELEVATION</th>\n",
       "      <th>LATITUDE</th>\n",
       "      <th>LONGITUDE</th>\n",
       "      <th>DATE</th>\n",
       "      <th>PRCP</th>\n",
       "      <th>TAVG</th>\n",
       "      <th>TMAX</th>\n",
       "      <th>TMIN</th>\n",
       "      <th>DATE_STR</th>\n",
       "      <th>YEAR</th>\n",
       "      <th>YEAR_MONTH</th>\n",
       "      <th>MONTH</th>\n",
       "      <th>DAYS</th>\n",
       "    </tr>\n",
       "  </thead>\n",
       "  <tbody>\n",
       "    <tr>\n",
       "      <th>0</th>\n",
       "      <td>GHCND:FIE00142080</td>\n",
       "      <td>51</td>\n",
       "      <td>60.3269</td>\n",
       "      <td>24.9603</td>\n",
       "      <td>19520101</td>\n",
       "      <td>0.31</td>\n",
       "      <td>37.0</td>\n",
       "      <td>39.0</td>\n",
       "      <td>34.0</td>\n",
       "      <td>19520101</td>\n",
       "      <td>1952</td>\n",
       "      <td>195201</td>\n",
       "      <td>01</td>\n",
       "      <td>01</td>\n",
       "    </tr>\n",
       "    <tr>\n",
       "      <th>1</th>\n",
       "      <td>GHCND:FIE00142080</td>\n",
       "      <td>51</td>\n",
       "      <td>60.3269</td>\n",
       "      <td>24.9603</td>\n",
       "      <td>19520102</td>\n",
       "      <td>NaN</td>\n",
       "      <td>35.0</td>\n",
       "      <td>37.0</td>\n",
       "      <td>34.0</td>\n",
       "      <td>19520102</td>\n",
       "      <td>1952</td>\n",
       "      <td>195201</td>\n",
       "      <td>01</td>\n",
       "      <td>02</td>\n",
       "    </tr>\n",
       "    <tr>\n",
       "      <th>2</th>\n",
       "      <td>GHCND:FIE00142080</td>\n",
       "      <td>51</td>\n",
       "      <td>60.3269</td>\n",
       "      <td>24.9603</td>\n",
       "      <td>19520103</td>\n",
       "      <td>0.14</td>\n",
       "      <td>33.0</td>\n",
       "      <td>36.0</td>\n",
       "      <td>NaN</td>\n",
       "      <td>19520103</td>\n",
       "      <td>1952</td>\n",
       "      <td>195201</td>\n",
       "      <td>01</td>\n",
       "      <td>03</td>\n",
       "    </tr>\n",
       "    <tr>\n",
       "      <th>3</th>\n",
       "      <td>GHCND:FIE00142080</td>\n",
       "      <td>51</td>\n",
       "      <td>60.3269</td>\n",
       "      <td>24.9603</td>\n",
       "      <td>19520104</td>\n",
       "      <td>0.05</td>\n",
       "      <td>29.0</td>\n",
       "      <td>30.0</td>\n",
       "      <td>25.0</td>\n",
       "      <td>19520104</td>\n",
       "      <td>1952</td>\n",
       "      <td>195201</td>\n",
       "      <td>01</td>\n",
       "      <td>04</td>\n",
       "    </tr>\n",
       "    <tr>\n",
       "      <th>4</th>\n",
       "      <td>GHCND:FIE00142080</td>\n",
       "      <td>51</td>\n",
       "      <td>60.3269</td>\n",
       "      <td>24.9603</td>\n",
       "      <td>19520105</td>\n",
       "      <td>0.06</td>\n",
       "      <td>27.0</td>\n",
       "      <td>30.0</td>\n",
       "      <td>25.0</td>\n",
       "      <td>19520105</td>\n",
       "      <td>1952</td>\n",
       "      <td>195201</td>\n",
       "      <td>01</td>\n",
       "      <td>05</td>\n",
       "    </tr>\n",
       "  </tbody>\n",
       "</table>\n",
       "</div>"
      ],
      "text/plain": [
       "             STATION  ELEVATION  LATITUDE  LONGITUDE      DATE  PRCP  TAVG  \\\n",
       "0  GHCND:FIE00142080         51   60.3269    24.9603  19520101  0.31  37.0   \n",
       "1  GHCND:FIE00142080         51   60.3269    24.9603  19520102   NaN  35.0   \n",
       "2  GHCND:FIE00142080         51   60.3269    24.9603  19520103  0.14  33.0   \n",
       "3  GHCND:FIE00142080         51   60.3269    24.9603  19520104  0.05  29.0   \n",
       "4  GHCND:FIE00142080         51   60.3269    24.9603  19520105  0.06  27.0   \n",
       "\n",
       "   TMAX  TMIN  DATE_STR  YEAR YEAR_MONTH MONTH DAYS  \n",
       "0  39.0  34.0  19520101  1952     195201    01   01  \n",
       "1  37.0  34.0  19520102  1952     195201    01   02  \n",
       "2  36.0   NaN  19520103  1952     195201    01   03  \n",
       "3  30.0  25.0  19520104  1952     195201    01   04  \n",
       "4  30.0  25.0  19520105  1952     195201    01   05  "
      ]
     },
     "execution_count": 177,
     "metadata": {},
     "output_type": "execute_result"
    }
   ],
   "source": [
    "data.head()"
   ]
  },
  {
   "cell_type": "code",
   "execution_count": 178,
   "metadata": {},
   "outputs": [],
   "source": [
    "#data[\"YEAR_MONTH\"].unique()"
   ]
  },
  {
   "cell_type": "code",
   "execution_count": 179,
   "metadata": {},
   "outputs": [
    {
     "data": {
      "text/plain": [
       "0    01\n",
       "1    02\n",
       "2    03\n",
       "3    04\n",
       "4    05\n",
       "Name: DAYS, dtype: object"
      ]
     },
     "execution_count": 179,
     "metadata": {},
     "output_type": "execute_result"
    }
   ],
   "source": [
    "data[\"DAYS\"].head()"
   ]
  },
  {
   "cell_type": "code",
   "execution_count": 180,
   "metadata": {
    "deletable": false,
    "editable": false,
    "nbgrader": {
     "cell_type": "code",
     "checksum": "a29f3bca70a28ab4a5e93f60bfbbc960",
     "grade": true,
     "grade_id": "problem_1_ag_p2_avg_temp_69_test1",
     "locked": true,
     "points": 0.2,
     "schema_version": 3,
     "solution": false
    }
   },
   "outputs": [
    {
     "name": "stdout",
     "output_type": "stream",
     "text": [
      "Average temperature (F) for the Summer of 69: 68.09\n"
     ]
    }
   ],
   "source": [
    "# This test print should print a number\n",
    "print(f'Average temperature (F) for the Summer of 69: {round(avg_temp_1969, 2)}')\n"
   ]
  },
  {
   "cell_type": "markdown",
   "metadata": {
    "deletable": false,
    "editable": false,
    "nbgrader": {
     "cell_type": "markdown",
     "checksum": "581f72fd70c7f8a05659cb1956d04741",
     "grade": false,
     "grade_id": "cell-beeb38c1b8d3eb13",
     "locked": true,
     "schema_version": 3,
     "solution": false
    }
   },
   "source": [
    "## Problem 2 - Calculating monthly average temperatures (3 points)\n",
    "\n",
    "For this problem your goal is to calculate monthly average temperatures in degrees Celsius from the daily Fahrenheit values we have in the data file. You can continue working with the same DataFrame that you used in Problem 1.\n",
    "\n",
    "### Scores for this problem\n",
    "\n",
    "**Your score on this problem will be based on following criteria:**\n",
    "\n",
    "- Calculating the monthly average temperatures in degrees Celsius for the each month in the dataset (i.e., for each month of each year)\n",
    "    - You should store the monthly average temperatures in a new Pandas DataFrame called `monthly_data`\n",
    "    - `monthly_data` should contain a new column called `temp_celsius` the monthly average temperatures in Celsius\n",
    "    - Convert the `TAVG` values in Fahrenheit into Celsius and store the output in the `temp_celsius`\n",
    "- Including comments that explain what most lines in the code do\n",
    "\n",
    "*Hint: you can start by creating a new column with a label for each month and then continue grouping the data based on this information.*"
   ]
  },
  {
   "cell_type": "code",
   "execution_count": 181,
   "metadata": {
    "deletable": false,
    "nbgrader": {
     "cell_type": "code",
     "checksum": "62d37e8db69c6a6a3bd72e22f79426fe",
     "grade": false,
     "grade_id": "problem_2_ag_p1_monthly_averages",
     "locked": false,
     "schema_version": 3,
     "solution": true
    }
   },
   "outputs": [
    {
     "data": {
      "text/html": [
       "<div>\n",
       "<style scoped>\n",
       "    .dataframe tbody tr th:only-of-type {\n",
       "        vertical-align: middle;\n",
       "    }\n",
       "\n",
       "    .dataframe tbody tr th {\n",
       "        vertical-align: top;\n",
       "    }\n",
       "\n",
       "    .dataframe thead th {\n",
       "        text-align: right;\n",
       "    }\n",
       "</style>\n",
       "<table border=\"1\" class=\"dataframe\">\n",
       "  <thead>\n",
       "    <tr style=\"text-align: right;\">\n",
       "      <th></th>\n",
       "      <th>temp_celsius</th>\n",
       "      <th>YEAR_MONTH</th>\n",
       "    </tr>\n",
       "  </thead>\n",
       "  <tbody>\n",
       "    <tr>\n",
       "      <th>0</th>\n",
       "      <td>-1.400966</td>\n",
       "      <td>195201</td>\n",
       "    </tr>\n",
       "    <tr>\n",
       "      <th>1</th>\n",
       "      <td>-4.0</td>\n",
       "      <td>195202</td>\n",
       "    </tr>\n",
       "    <tr>\n",
       "      <th>2</th>\n",
       "      <td>-10.106838</td>\n",
       "      <td>195203</td>\n",
       "    </tr>\n",
       "    <tr>\n",
       "      <th>3</th>\n",
       "      <td>4.22619</td>\n",
       "      <td>195204</td>\n",
       "    </tr>\n",
       "    <tr>\n",
       "      <th>4</th>\n",
       "      <td>7.037037</td>\n",
       "      <td>195205</td>\n",
       "    </tr>\n",
       "  </tbody>\n",
       "</table>\n",
       "</div>"
      ],
      "text/plain": [
       "  temp_celsius YEAR_MONTH\n",
       "0    -1.400966     195201\n",
       "1         -4.0     195202\n",
       "2   -10.106838     195203\n",
       "3      4.22619     195204\n",
       "4     7.037037     195205"
      ]
     },
     "execution_count": 181,
     "metadata": {},
     "output_type": "execute_result"
    }
   ],
   "source": [
    "# we need to create temperature converter\n",
    "def fahr_to_celsius(temp_fah):\n",
    "    temp_celsius = (temp_fah - 32)/1.8\n",
    "    return temp_celsius\n",
    "# we then create a new column and apply temperature converter\n",
    "\n",
    "data[\"temp_celsius\"] = data[\"TAVG\"].apply(fahr_to_celsius)\n",
    "# we group data by YEAR_MONTH so that data is monthly and there are 790 months as a result\n",
    "grouped = data.groupby(data[\"YEAR_MONTH\"])\n",
    "\n",
    "# create an empty data frame monthly_data\n",
    "monthly_data = pd.DataFrame()\n",
    "# create column to be include in monthly_data data frame\n",
    "mean_col = [\"temp_celsius\"]\n",
    "for key, group in grouped:\n",
    "    mean_value = group[mean_col].mean()\n",
    "    mean_value[\"YEAR_MONTH\"] = key\n",
    "    row = mean_value.to_frame().transpose()\n",
    "    monthly_data = pd.concat([monthly_data, row], ignore_index = True)\n",
    "\n",
    "monthly_data.head()\n",
    "# so far we created a new column temp_celsius, created an empty dataframe, group data into monthly\n",
    "# calculated mean for each monthly data\n",
    "#monthly_data = None\n",
    "\n",
    "# YOUR CODE HERE\n"
   ]
  },
  {
   "cell_type": "code",
   "execution_count": 182,
   "metadata": {},
   "outputs": [],
   "source": [
    "monthly_data[\"MONTH\"] = monthly_data[\"YEAR_MONTH\"].str.slice(start = 4, stop = 6) "
   ]
  },
  {
   "cell_type": "code",
   "execution_count": 183,
   "metadata": {},
   "outputs": [
    {
     "data": {
      "text/html": [
       "<div>\n",
       "<style scoped>\n",
       "    .dataframe tbody tr th:only-of-type {\n",
       "        vertical-align: middle;\n",
       "    }\n",
       "\n",
       "    .dataframe tbody tr th {\n",
       "        vertical-align: top;\n",
       "    }\n",
       "\n",
       "    .dataframe thead th {\n",
       "        text-align: right;\n",
       "    }\n",
       "</style>\n",
       "<table border=\"1\" class=\"dataframe\">\n",
       "  <thead>\n",
       "    <tr style=\"text-align: right;\">\n",
       "      <th></th>\n",
       "      <th>temp_celsius</th>\n",
       "      <th>YEAR_MONTH</th>\n",
       "      <th>MONTH</th>\n",
       "    </tr>\n",
       "  </thead>\n",
       "  <tbody>\n",
       "    <tr>\n",
       "      <th>0</th>\n",
       "      <td>-1.400966</td>\n",
       "      <td>195201</td>\n",
       "      <td>01</td>\n",
       "    </tr>\n",
       "    <tr>\n",
       "      <th>1</th>\n",
       "      <td>-4.0</td>\n",
       "      <td>195202</td>\n",
       "      <td>02</td>\n",
       "    </tr>\n",
       "    <tr>\n",
       "      <th>2</th>\n",
       "      <td>-10.106838</td>\n",
       "      <td>195203</td>\n",
       "      <td>03</td>\n",
       "    </tr>\n",
       "    <tr>\n",
       "      <th>3</th>\n",
       "      <td>4.22619</td>\n",
       "      <td>195204</td>\n",
       "      <td>04</td>\n",
       "    </tr>\n",
       "    <tr>\n",
       "      <th>4</th>\n",
       "      <td>7.037037</td>\n",
       "      <td>195205</td>\n",
       "      <td>05</td>\n",
       "    </tr>\n",
       "  </tbody>\n",
       "</table>\n",
       "</div>"
      ],
      "text/plain": [
       "  temp_celsius YEAR_MONTH MONTH\n",
       "0    -1.400966     195201    01\n",
       "1         -4.0     195202    02\n",
       "2   -10.106838     195203    03\n",
       "3      4.22619     195204    04\n",
       "4     7.037037     195205    05"
      ]
     },
     "execution_count": 183,
     "metadata": {},
     "output_type": "execute_result"
    }
   ],
   "source": [
    "monthly_data.head()"
   ]
  },
  {
   "cell_type": "code",
   "execution_count": 184,
   "metadata": {},
   "outputs": [],
   "source": [
    "# monthly data by unique key YEAR_MONTH\n",
    "#monthly_data[\"YEAR_MONTH\"].unique()"
   ]
  },
  {
   "cell_type": "code",
   "execution_count": 185,
   "metadata": {
    "deletable": false,
    "editable": false,
    "nbgrader": {
     "cell_type": "code",
     "checksum": "c1f0bb2e971a3a08e19b7de4f65cf188",
     "grade": true,
     "grade_id": "problem_2_ag_p1_monthly_averages_test1",
     "locked": true,
     "points": 0.2,
     "schema_version": 3,
     "solution": false
    }
   },
   "outputs": [
    {
     "name": "stdout",
     "output_type": "stream",
     "text": [
      "790\n"
     ]
    }
   ],
   "source": [
    "# This test print should print the length of variable monthly_data\n",
    "print(len(monthly_data))"
   ]
  },
  {
   "cell_type": "code",
   "execution_count": 186,
   "metadata": {},
   "outputs": [
    {
     "data": {
      "text/plain": [
       "pandas.core.frame.DataFrame"
      ]
     },
     "execution_count": 186,
     "metadata": {},
     "output_type": "execute_result"
    }
   ],
   "source": [
    "type(monthly_data)"
   ]
  },
  {
   "cell_type": "code",
   "execution_count": 187,
   "metadata": {
    "deletable": false,
    "editable": false,
    "nbgrader": {
     "cell_type": "code",
     "checksum": "eb3b7a2eda732af1359e23440d263d73",
     "grade": true,
     "grade_id": "problem_2_ag_p1_monthly_averages_test2",
     "locked": true,
     "points": 0.8,
     "schema_version": 3,
     "solution": false
    }
   },
   "outputs": [
    {
     "name": "stdout",
     "output_type": "stream",
     "text": [
      "['temp_celsius' 'YEAR_MONTH' 'MONTH']\n"
     ]
    }
   ],
   "source": [
    "# This test print should print the column names of monthly_data\n",
    "print(monthly_data.columns.values)"
   ]
  },
  {
   "cell_type": "code",
   "execution_count": 188,
   "metadata": {
    "deletable": false,
    "editable": false,
    "nbgrader": {
     "cell_type": "code",
     "checksum": "fea6bdb6e194e4371f229a4aee191e40",
     "grade": true,
     "grade_id": "problem_2_ag_p1_monthly_averages_test3",
     "locked": true,
     "points": 1,
     "schema_version": 3,
     "solution": false
    }
   },
   "outputs": [
    {
     "name": "stdout",
     "output_type": "stream",
     "text": [
      "5.097114347669993\n"
     ]
    }
   ],
   "source": [
    "# This test print should print the mean of temp_celsius\n",
    "print(monthly_data['temp_celsius'].mean())"
   ]
  },
  {
   "cell_type": "code",
   "execution_count": 189,
   "metadata": {
    "deletable": false,
    "editable": false,
    "nbgrader": {
     "cell_type": "code",
     "checksum": "99c2a66c0d510395f7ec8498b257ce2d",
     "grade": true,
     "grade_id": "problem_2_ag_p1_monthly_averages_test4",
     "locked": true,
     "points": 1,
     "schema_version": 3,
     "solution": false
    }
   },
   "outputs": [
    {
     "name": "stdout",
     "output_type": "stream",
     "text": [
      "4.73\n"
     ]
    }
   ],
   "source": [
    "# This test print should print the median of temp_celsius\n",
    "print(round(monthly_data['temp_celsius'].median(), 2))"
   ]
  },
  {
   "cell_type": "markdown",
   "metadata": {
    "deletable": false,
    "editable": false,
    "nbgrader": {
     "cell_type": "markdown",
     "checksum": "3b97a147498f7c35e7e5bb587a3f35d5",
     "grade": false,
     "grade_id": "cell-ccd31e45c30df3ec",
     "locked": true,
     "schema_version": 3,
     "solution": false
    }
   },
   "source": [
    "## Problem 3 - Calculating temperature anomalies (5 points)\n",
    "\n",
    "Our goal in this problem is to calculate monthly temperature anomalies in order to see how temperatures have changed over time, relative to an observation period between 1952-1980. You can continue working with the same data that you used in Problems 1 and 2.\n",
    "\n",
    "**Your score on this problem will be based on following criteria:**\n",
    "\n",
    "### Part 1:\n",
    "\n",
    "- Calculating ***the mean temperature for each month over the period from 1952 up to and including 1980*** in a new DataFrame called `reference_temps`\n",
    "    - You should end up with 12 values, 1 mean temperature for each month during the time period (see example table and figure below).\n",
    "    - The columns in the new DataFrame should be `month` and `ref_temp`\n",
    "    \n",
    "Your `reference_temps` dataframe should have the following structure: 1 value for each month of the year (12 total) and the values represent and average in the observation period 1952-1980. The `ref_temp` temperatures should be in degrees Celsius.\n",
    "   \n",
    "| month    | ref_temp         |\n",
    "|----------|------------------|\n",
    "| 01       | -5.838761        |\n",
    "| 02       | -7.064088        |\n",
    "| 03       | -3.874213        |\n",
    "| ...      | ...              |\n",
    "\n",
    "### Part 2:\n",
    "\n",
    "- Calculating **a temperature anomaly for every month** in the `monthly_data` DataFrame using the corresponding monthly average temperature for each of the 12 months:\n",
    "    - In order to achieve this you need to make **a table join** (see [hints for this week](https://geo-python.github.io/site/lessons/L5/exercise-6.html)) between `monthly_data` and `ref_temps` based on the month.\n",
    "    - Temperature anomaly is calculated as the difference between the temperature for a given month (`temp_celsius` column in `monthly_data`) and the corresponding monthly reference temperature (`ref_temp` column in`reference_temps`) \n",
    "    - Store the result in a new column `\"diff\"` \n",
    "    \n",
    "As the output of the table join and the calculation, you should have three new columns in the `monthly_data` DataFrame: \n",
    "1. `diff`: The temperature anomaly, i.e. the difference between the temperature for a given month (e.g., February 1960) and the mean temperature during the reference period (e.g., for February 1952 to 1980), \n",
    "2. `month`: The month for that row of observations\n",
    "3. `ref_temp`: The monthly reference temperature\n",
    "\n",
    "A summary of the relationships between the `monthly_data` and `reference_temps` DataFrames, as well as how the `diff` value should be calculated in the `monthly_data` DataFrame is presented in the figure below.\n",
    "\n",
    "![Exercise 6 dataframes](img/exercise-6-dataframes.png)<br/>\n",
    "*Figure 1. Relationships between the `monthly_data` and `reference_temps` DataFrames.*\n",
    "\n",
    "You should finally report which month had the greatest weather anomaly during the observed time period.\n",
    "\n",
    "Remember to include comments in your code."
   ]
  },
  {
   "cell_type": "code",
   "execution_count": 190,
   "metadata": {
    "deletable": false,
    "nbgrader": {
     "cell_type": "code",
     "checksum": "1e0b52840218bc91e6aed8f49134be4f",
     "grade": false,
     "grade_id": "problem_3_ag_p1_temperature_anomaly",
     "locked": false,
     "schema_version": 3,
     "solution": true
    }
   },
   "outputs": [
    {
     "data": {
      "text/plain": [
       "array(['01', '02', '03', '04', '05', '06', '07', '08', '09', '10', '11',\n",
       "       '12'], dtype=object)"
      ]
     },
     "execution_count": 190,
     "metadata": {},
     "output_type": "execute_result"
    }
   ],
   "source": [
    "# YOUR CODE HERE\n",
    "# select target data range\n",
    "temp_range= data.loc[(data[\"YEAR_MONTH\"]>=\"195201\") & (data[\"YEAR_MONTH\"]<=\"198012\")]\n",
    "\n",
    "# lets see unique value in MONTH in temp_range data frame\n",
    "temp_range[\"MONTH\"].unique()\n",
    "#len(reference_temp)\n",
    "# we need to group this data into groups of same month. we will group by month!"
   ]
  },
  {
   "cell_type": "code",
   "execution_count": 191,
   "metadata": {},
   "outputs": [],
   "source": [
    "# lets see unique values in YEAR_MONTH in temp_range data frame\n",
    "#temp_range[\"YEAR_MONTH\"].unique()\n",
    "# we see that we can group data by months for the data frame"
   ]
  },
  {
   "cell_type": "code",
   "execution_count": 192,
   "metadata": {},
   "outputs": [
    {
     "data": {
      "text/html": [
       "<div>\n",
       "<style scoped>\n",
       "    .dataframe tbody tr th:only-of-type {\n",
       "        vertical-align: middle;\n",
       "    }\n",
       "\n",
       "    .dataframe tbody tr th {\n",
       "        vertical-align: top;\n",
       "    }\n",
       "\n",
       "    .dataframe thead th {\n",
       "        text-align: right;\n",
       "    }\n",
       "</style>\n",
       "<table border=\"1\" class=\"dataframe\">\n",
       "  <thead>\n",
       "    <tr style=\"text-align: right;\">\n",
       "      <th></th>\n",
       "      <th>STATION</th>\n",
       "      <th>ELEVATION</th>\n",
       "      <th>LATITUDE</th>\n",
       "      <th>LONGITUDE</th>\n",
       "      <th>DATE</th>\n",
       "      <th>PRCP</th>\n",
       "      <th>TAVG</th>\n",
       "      <th>TMAX</th>\n",
       "      <th>TMIN</th>\n",
       "      <th>DATE_STR</th>\n",
       "      <th>YEAR</th>\n",
       "      <th>YEAR_MONTH</th>\n",
       "      <th>MONTH</th>\n",
       "      <th>DAYS</th>\n",
       "      <th>temp_celsius</th>\n",
       "    </tr>\n",
       "  </thead>\n",
       "  <tbody>\n",
       "    <tr>\n",
       "      <th>10312</th>\n",
       "      <td>GHCND:FIE00142080</td>\n",
       "      <td>51</td>\n",
       "      <td>60.3269</td>\n",
       "      <td>24.9603</td>\n",
       "      <td>19801227</td>\n",
       "      <td>0.01</td>\n",
       "      <td>31.0</td>\n",
       "      <td>33.0</td>\n",
       "      <td>28.0</td>\n",
       "      <td>19801227</td>\n",
       "      <td>1980</td>\n",
       "      <td>198012</td>\n",
       "      <td>12</td>\n",
       "      <td>27</td>\n",
       "      <td>-0.555556</td>\n",
       "    </tr>\n",
       "    <tr>\n",
       "      <th>10313</th>\n",
       "      <td>GHCND:FIE00142080</td>\n",
       "      <td>51</td>\n",
       "      <td>60.3269</td>\n",
       "      <td>24.9603</td>\n",
       "      <td>19801228</td>\n",
       "      <td>0.07</td>\n",
       "      <td>30.0</td>\n",
       "      <td>33.0</td>\n",
       "      <td>25.0</td>\n",
       "      <td>19801228</td>\n",
       "      <td>1980</td>\n",
       "      <td>198012</td>\n",
       "      <td>12</td>\n",
       "      <td>28</td>\n",
       "      <td>-1.111111</td>\n",
       "    </tr>\n",
       "    <tr>\n",
       "      <th>10314</th>\n",
       "      <td>GHCND:FIE00142080</td>\n",
       "      <td>51</td>\n",
       "      <td>60.3269</td>\n",
       "      <td>24.9603</td>\n",
       "      <td>19801229</td>\n",
       "      <td>0.03</td>\n",
       "      <td>35.0</td>\n",
       "      <td>38.0</td>\n",
       "      <td>32.0</td>\n",
       "      <td>19801229</td>\n",
       "      <td>1980</td>\n",
       "      <td>198012</td>\n",
       "      <td>12</td>\n",
       "      <td>29</td>\n",
       "      <td>1.666667</td>\n",
       "    </tr>\n",
       "    <tr>\n",
       "      <th>10315</th>\n",
       "      <td>GHCND:FIE00142080</td>\n",
       "      <td>51</td>\n",
       "      <td>60.3269</td>\n",
       "      <td>24.9603</td>\n",
       "      <td>19801230</td>\n",
       "      <td>0.00</td>\n",
       "      <td>35.0</td>\n",
       "      <td>42.0</td>\n",
       "      <td>32.0</td>\n",
       "      <td>19801230</td>\n",
       "      <td>1980</td>\n",
       "      <td>198012</td>\n",
       "      <td>12</td>\n",
       "      <td>30</td>\n",
       "      <td>1.666667</td>\n",
       "    </tr>\n",
       "    <tr>\n",
       "      <th>10316</th>\n",
       "      <td>GHCND:FIE00142080</td>\n",
       "      <td>51</td>\n",
       "      <td>60.3269</td>\n",
       "      <td>24.9603</td>\n",
       "      <td>19801231</td>\n",
       "      <td>0.47</td>\n",
       "      <td>32.0</td>\n",
       "      <td>35.0</td>\n",
       "      <td>28.0</td>\n",
       "      <td>19801231</td>\n",
       "      <td>1980</td>\n",
       "      <td>198012</td>\n",
       "      <td>12</td>\n",
       "      <td>31</td>\n",
       "      <td>0.000000</td>\n",
       "    </tr>\n",
       "  </tbody>\n",
       "</table>\n",
       "</div>"
      ],
      "text/plain": [
       "                 STATION  ELEVATION  LATITUDE  LONGITUDE      DATE  PRCP  \\\n",
       "10312  GHCND:FIE00142080         51   60.3269    24.9603  19801227  0.01   \n",
       "10313  GHCND:FIE00142080         51   60.3269    24.9603  19801228  0.07   \n",
       "10314  GHCND:FIE00142080         51   60.3269    24.9603  19801229  0.03   \n",
       "10315  GHCND:FIE00142080         51   60.3269    24.9603  19801230  0.00   \n",
       "10316  GHCND:FIE00142080         51   60.3269    24.9603  19801231  0.47   \n",
       "\n",
       "       TAVG  TMAX  TMIN  DATE_STR  YEAR YEAR_MONTH MONTH DAYS  temp_celsius  \n",
       "10312  31.0  33.0  28.0  19801227  1980     198012    12   27     -0.555556  \n",
       "10313  30.0  33.0  25.0  19801228  1980     198012    12   28     -1.111111  \n",
       "10314  35.0  38.0  32.0  19801229  1980     198012    12   29      1.666667  \n",
       "10315  35.0  42.0  32.0  19801230  1980     198012    12   30      1.666667  \n",
       "10316  32.0  35.0  28.0  19801231  1980     198012    12   31      0.000000  "
      ]
     },
     "execution_count": 192,
     "metadata": {},
     "output_type": "execute_result"
    }
   ],
   "source": [
    "temp_range.tail()\n"
   ]
  },
  {
   "cell_type": "code",
   "execution_count": 193,
   "metadata": {},
   "outputs": [],
   "source": [
    "grouped = temp_range.groupby(temp_range[\"MONTH\"])\n",
    "\n"
   ]
  },
  {
   "cell_type": "code",
   "execution_count": 194,
   "metadata": {},
   "outputs": [
    {
     "data": {
      "text/html": [
       "<div>\n",
       "<style scoped>\n",
       "    .dataframe tbody tr th:only-of-type {\n",
       "        vertical-align: middle;\n",
       "    }\n",
       "\n",
       "    .dataframe tbody tr th {\n",
       "        vertical-align: top;\n",
       "    }\n",
       "\n",
       "    .dataframe thead th {\n",
       "        text-align: right;\n",
       "    }\n",
       "</style>\n",
       "<table border=\"1\" class=\"dataframe\">\n",
       "  <thead>\n",
       "    <tr style=\"text-align: right;\">\n",
       "      <th></th>\n",
       "      <th>STATION</th>\n",
       "      <th>ELEVATION</th>\n",
       "      <th>LATITUDE</th>\n",
       "      <th>LONGITUDE</th>\n",
       "      <th>DATE</th>\n",
       "      <th>PRCP</th>\n",
       "      <th>TAVG</th>\n",
       "      <th>TMAX</th>\n",
       "      <th>TMIN</th>\n",
       "      <th>DATE_STR</th>\n",
       "      <th>YEAR</th>\n",
       "      <th>YEAR_MONTH</th>\n",
       "      <th>MONTH</th>\n",
       "      <th>DAYS</th>\n",
       "      <th>temp_celsius</th>\n",
       "    </tr>\n",
       "  </thead>\n",
       "  <tbody>\n",
       "    <tr>\n",
       "      <th>0</th>\n",
       "      <td>GHCND:FIE00142080</td>\n",
       "      <td>51</td>\n",
       "      <td>60.3269</td>\n",
       "      <td>24.9603</td>\n",
       "      <td>19520101</td>\n",
       "      <td>0.31</td>\n",
       "      <td>37.0</td>\n",
       "      <td>39.0</td>\n",
       "      <td>34.0</td>\n",
       "      <td>19520101</td>\n",
       "      <td>1952</td>\n",
       "      <td>195201</td>\n",
       "      <td>01</td>\n",
       "      <td>01</td>\n",
       "      <td>2.777778</td>\n",
       "    </tr>\n",
       "    <tr>\n",
       "      <th>1</th>\n",
       "      <td>GHCND:FIE00142080</td>\n",
       "      <td>51</td>\n",
       "      <td>60.3269</td>\n",
       "      <td>24.9603</td>\n",
       "      <td>19520102</td>\n",
       "      <td>NaN</td>\n",
       "      <td>35.0</td>\n",
       "      <td>37.0</td>\n",
       "      <td>34.0</td>\n",
       "      <td>19520102</td>\n",
       "      <td>1952</td>\n",
       "      <td>195201</td>\n",
       "      <td>01</td>\n",
       "      <td>02</td>\n",
       "      <td>1.666667</td>\n",
       "    </tr>\n",
       "    <tr>\n",
       "      <th>2</th>\n",
       "      <td>GHCND:FIE00142080</td>\n",
       "      <td>51</td>\n",
       "      <td>60.3269</td>\n",
       "      <td>24.9603</td>\n",
       "      <td>19520103</td>\n",
       "      <td>0.14</td>\n",
       "      <td>33.0</td>\n",
       "      <td>36.0</td>\n",
       "      <td>NaN</td>\n",
       "      <td>19520103</td>\n",
       "      <td>1952</td>\n",
       "      <td>195201</td>\n",
       "      <td>01</td>\n",
       "      <td>03</td>\n",
       "      <td>0.555556</td>\n",
       "    </tr>\n",
       "    <tr>\n",
       "      <th>3</th>\n",
       "      <td>GHCND:FIE00142080</td>\n",
       "      <td>51</td>\n",
       "      <td>60.3269</td>\n",
       "      <td>24.9603</td>\n",
       "      <td>19520104</td>\n",
       "      <td>0.05</td>\n",
       "      <td>29.0</td>\n",
       "      <td>30.0</td>\n",
       "      <td>25.0</td>\n",
       "      <td>19520104</td>\n",
       "      <td>1952</td>\n",
       "      <td>195201</td>\n",
       "      <td>01</td>\n",
       "      <td>04</td>\n",
       "      <td>-1.666667</td>\n",
       "    </tr>\n",
       "    <tr>\n",
       "      <th>4</th>\n",
       "      <td>GHCND:FIE00142080</td>\n",
       "      <td>51</td>\n",
       "      <td>60.3269</td>\n",
       "      <td>24.9603</td>\n",
       "      <td>19520105</td>\n",
       "      <td>0.06</td>\n",
       "      <td>27.0</td>\n",
       "      <td>30.0</td>\n",
       "      <td>25.0</td>\n",
       "      <td>19520105</td>\n",
       "      <td>1952</td>\n",
       "      <td>195201</td>\n",
       "      <td>01</td>\n",
       "      <td>05</td>\n",
       "      <td>-2.777778</td>\n",
       "    </tr>\n",
       "    <tr>\n",
       "      <th>...</th>\n",
       "      <td>...</td>\n",
       "      <td>...</td>\n",
       "      <td>...</td>\n",
       "      <td>...</td>\n",
       "      <td>...</td>\n",
       "      <td>...</td>\n",
       "      <td>...</td>\n",
       "      <td>...</td>\n",
       "      <td>...</td>\n",
       "      <td>...</td>\n",
       "      <td>...</td>\n",
       "      <td>...</td>\n",
       "      <td>...</td>\n",
       "      <td>...</td>\n",
       "      <td>...</td>\n",
       "    </tr>\n",
       "    <tr>\n",
       "      <th>10312</th>\n",
       "      <td>GHCND:FIE00142080</td>\n",
       "      <td>51</td>\n",
       "      <td>60.3269</td>\n",
       "      <td>24.9603</td>\n",
       "      <td>19801227</td>\n",
       "      <td>0.01</td>\n",
       "      <td>31.0</td>\n",
       "      <td>33.0</td>\n",
       "      <td>28.0</td>\n",
       "      <td>19801227</td>\n",
       "      <td>1980</td>\n",
       "      <td>198012</td>\n",
       "      <td>12</td>\n",
       "      <td>27</td>\n",
       "      <td>-0.555556</td>\n",
       "    </tr>\n",
       "    <tr>\n",
       "      <th>10313</th>\n",
       "      <td>GHCND:FIE00142080</td>\n",
       "      <td>51</td>\n",
       "      <td>60.3269</td>\n",
       "      <td>24.9603</td>\n",
       "      <td>19801228</td>\n",
       "      <td>0.07</td>\n",
       "      <td>30.0</td>\n",
       "      <td>33.0</td>\n",
       "      <td>25.0</td>\n",
       "      <td>19801228</td>\n",
       "      <td>1980</td>\n",
       "      <td>198012</td>\n",
       "      <td>12</td>\n",
       "      <td>28</td>\n",
       "      <td>-1.111111</td>\n",
       "    </tr>\n",
       "    <tr>\n",
       "      <th>10314</th>\n",
       "      <td>GHCND:FIE00142080</td>\n",
       "      <td>51</td>\n",
       "      <td>60.3269</td>\n",
       "      <td>24.9603</td>\n",
       "      <td>19801229</td>\n",
       "      <td>0.03</td>\n",
       "      <td>35.0</td>\n",
       "      <td>38.0</td>\n",
       "      <td>32.0</td>\n",
       "      <td>19801229</td>\n",
       "      <td>1980</td>\n",
       "      <td>198012</td>\n",
       "      <td>12</td>\n",
       "      <td>29</td>\n",
       "      <td>1.666667</td>\n",
       "    </tr>\n",
       "    <tr>\n",
       "      <th>10315</th>\n",
       "      <td>GHCND:FIE00142080</td>\n",
       "      <td>51</td>\n",
       "      <td>60.3269</td>\n",
       "      <td>24.9603</td>\n",
       "      <td>19801230</td>\n",
       "      <td>0.00</td>\n",
       "      <td>35.0</td>\n",
       "      <td>42.0</td>\n",
       "      <td>32.0</td>\n",
       "      <td>19801230</td>\n",
       "      <td>1980</td>\n",
       "      <td>198012</td>\n",
       "      <td>12</td>\n",
       "      <td>30</td>\n",
       "      <td>1.666667</td>\n",
       "    </tr>\n",
       "    <tr>\n",
       "      <th>10316</th>\n",
       "      <td>GHCND:FIE00142080</td>\n",
       "      <td>51</td>\n",
       "      <td>60.3269</td>\n",
       "      <td>24.9603</td>\n",
       "      <td>19801231</td>\n",
       "      <td>0.47</td>\n",
       "      <td>32.0</td>\n",
       "      <td>35.0</td>\n",
       "      <td>28.0</td>\n",
       "      <td>19801231</td>\n",
       "      <td>1980</td>\n",
       "      <td>198012</td>\n",
       "      <td>12</td>\n",
       "      <td>31</td>\n",
       "      <td>0.000000</td>\n",
       "    </tr>\n",
       "  </tbody>\n",
       "</table>\n",
       "<p>10317 rows × 15 columns</p>\n",
       "</div>"
      ],
      "text/plain": [
       "                 STATION  ELEVATION  LATITUDE  LONGITUDE      DATE  PRCP  \\\n",
       "0      GHCND:FIE00142080         51   60.3269    24.9603  19520101  0.31   \n",
       "1      GHCND:FIE00142080         51   60.3269    24.9603  19520102   NaN   \n",
       "2      GHCND:FIE00142080         51   60.3269    24.9603  19520103  0.14   \n",
       "3      GHCND:FIE00142080         51   60.3269    24.9603  19520104  0.05   \n",
       "4      GHCND:FIE00142080         51   60.3269    24.9603  19520105  0.06   \n",
       "...                  ...        ...       ...        ...       ...   ...   \n",
       "10312  GHCND:FIE00142080         51   60.3269    24.9603  19801227  0.01   \n",
       "10313  GHCND:FIE00142080         51   60.3269    24.9603  19801228  0.07   \n",
       "10314  GHCND:FIE00142080         51   60.3269    24.9603  19801229  0.03   \n",
       "10315  GHCND:FIE00142080         51   60.3269    24.9603  19801230  0.00   \n",
       "10316  GHCND:FIE00142080         51   60.3269    24.9603  19801231  0.47   \n",
       "\n",
       "       TAVG  TMAX  TMIN  DATE_STR  YEAR YEAR_MONTH MONTH DAYS  temp_celsius  \n",
       "0      37.0  39.0  34.0  19520101  1952     195201    01   01      2.777778  \n",
       "1      35.0  37.0  34.0  19520102  1952     195201    01   02      1.666667  \n",
       "2      33.0  36.0   NaN  19520103  1952     195201    01   03      0.555556  \n",
       "3      29.0  30.0  25.0  19520104  1952     195201    01   04     -1.666667  \n",
       "4      27.0  30.0  25.0  19520105  1952     195201    01   05     -2.777778  \n",
       "...     ...   ...   ...       ...   ...        ...   ...  ...           ...  \n",
       "10312  31.0  33.0  28.0  19801227  1980     198012    12   27     -0.555556  \n",
       "10313  30.0  33.0  25.0  19801228  1980     198012    12   28     -1.111111  \n",
       "10314  35.0  38.0  32.0  19801229  1980     198012    12   29      1.666667  \n",
       "10315  35.0  42.0  32.0  19801230  1980     198012    12   30      1.666667  \n",
       "10316  32.0  35.0  28.0  19801231  1980     198012    12   31      0.000000  \n",
       "\n",
       "[10317 rows x 15 columns]"
      ]
     },
     "execution_count": 194,
     "metadata": {},
     "output_type": "execute_result"
    }
   ],
   "source": [
    "temp_range"
   ]
  },
  {
   "cell_type": "code",
   "execution_count": 195,
   "metadata": {},
   "outputs": [],
   "source": [
    "#grouped.rename(columns= {\"\"})"
   ]
  },
  {
   "cell_type": "code",
   "execution_count": 196,
   "metadata": {},
   "outputs": [
    {
     "data": {
      "text/plain": [
       "dict_keys(['01', '02', '03', '04', '05', '06', '07', '08', '09', '10', '11', '12'])"
      ]
     },
     "execution_count": 196,
     "metadata": {},
     "output_type": "execute_result"
    }
   ],
   "source": [
    "grouped.groups.keys()"
   ]
  },
  {
   "cell_type": "code",
   "execution_count": 197,
   "metadata": {},
   "outputs": [
    {
     "data": {
      "text/html": [
       "<div>\n",
       "<style scoped>\n",
       "    .dataframe tbody tr th:only-of-type {\n",
       "        vertical-align: middle;\n",
       "    }\n",
       "\n",
       "    .dataframe tbody tr th {\n",
       "        vertical-align: top;\n",
       "    }\n",
       "\n",
       "    .dataframe thead th {\n",
       "        text-align: right;\n",
       "    }\n",
       "</style>\n",
       "<table border=\"1\" class=\"dataframe\">\n",
       "  <thead>\n",
       "    <tr style=\"text-align: right;\">\n",
       "      <th></th>\n",
       "      <th>STATION</th>\n",
       "      <th>ELEVATION</th>\n",
       "      <th>LATITUDE</th>\n",
       "      <th>LONGITUDE</th>\n",
       "      <th>DATE</th>\n",
       "      <th>PRCP</th>\n",
       "      <th>TAVG</th>\n",
       "      <th>TMAX</th>\n",
       "      <th>TMIN</th>\n",
       "      <th>DATE_STR</th>\n",
       "      <th>YEAR</th>\n",
       "      <th>YEAR_MONTH</th>\n",
       "      <th>MONTH</th>\n",
       "      <th>DAYS</th>\n",
       "      <th>temp_celsius</th>\n",
       "    </tr>\n",
       "  </thead>\n",
       "  <tbody>\n",
       "    <tr>\n",
       "      <th>0</th>\n",
       "      <td>GHCND:FIE00142080</td>\n",
       "      <td>51</td>\n",
       "      <td>60.3269</td>\n",
       "      <td>24.9603</td>\n",
       "      <td>19520101</td>\n",
       "      <td>0.31</td>\n",
       "      <td>37.0</td>\n",
       "      <td>39.0</td>\n",
       "      <td>34.0</td>\n",
       "      <td>19520101</td>\n",
       "      <td>1952</td>\n",
       "      <td>195201</td>\n",
       "      <td>01</td>\n",
       "      <td>01</td>\n",
       "      <td>2.777778</td>\n",
       "    </tr>\n",
       "    <tr>\n",
       "      <th>1</th>\n",
       "      <td>GHCND:FIE00142080</td>\n",
       "      <td>51</td>\n",
       "      <td>60.3269</td>\n",
       "      <td>24.9603</td>\n",
       "      <td>19520102</td>\n",
       "      <td>NaN</td>\n",
       "      <td>35.0</td>\n",
       "      <td>37.0</td>\n",
       "      <td>34.0</td>\n",
       "      <td>19520102</td>\n",
       "      <td>1952</td>\n",
       "      <td>195201</td>\n",
       "      <td>01</td>\n",
       "      <td>02</td>\n",
       "      <td>1.666667</td>\n",
       "    </tr>\n",
       "    <tr>\n",
       "      <th>2</th>\n",
       "      <td>GHCND:FIE00142080</td>\n",
       "      <td>51</td>\n",
       "      <td>60.3269</td>\n",
       "      <td>24.9603</td>\n",
       "      <td>19520103</td>\n",
       "      <td>0.14</td>\n",
       "      <td>33.0</td>\n",
       "      <td>36.0</td>\n",
       "      <td>NaN</td>\n",
       "      <td>19520103</td>\n",
       "      <td>1952</td>\n",
       "      <td>195201</td>\n",
       "      <td>01</td>\n",
       "      <td>03</td>\n",
       "      <td>0.555556</td>\n",
       "    </tr>\n",
       "    <tr>\n",
       "      <th>3</th>\n",
       "      <td>GHCND:FIE00142080</td>\n",
       "      <td>51</td>\n",
       "      <td>60.3269</td>\n",
       "      <td>24.9603</td>\n",
       "      <td>19520104</td>\n",
       "      <td>0.05</td>\n",
       "      <td>29.0</td>\n",
       "      <td>30.0</td>\n",
       "      <td>25.0</td>\n",
       "      <td>19520104</td>\n",
       "      <td>1952</td>\n",
       "      <td>195201</td>\n",
       "      <td>01</td>\n",
       "      <td>04</td>\n",
       "      <td>-1.666667</td>\n",
       "    </tr>\n",
       "    <tr>\n",
       "      <th>4</th>\n",
       "      <td>GHCND:FIE00142080</td>\n",
       "      <td>51</td>\n",
       "      <td>60.3269</td>\n",
       "      <td>24.9603</td>\n",
       "      <td>19520105</td>\n",
       "      <td>0.06</td>\n",
       "      <td>27.0</td>\n",
       "      <td>30.0</td>\n",
       "      <td>25.0</td>\n",
       "      <td>19520105</td>\n",
       "      <td>1952</td>\n",
       "      <td>195201</td>\n",
       "      <td>01</td>\n",
       "      <td>05</td>\n",
       "      <td>-2.777778</td>\n",
       "    </tr>\n",
       "  </tbody>\n",
       "</table>\n",
       "</div>"
      ],
      "text/plain": [
       "             STATION  ELEVATION  LATITUDE  LONGITUDE      DATE  PRCP  TAVG  \\\n",
       "0  GHCND:FIE00142080         51   60.3269    24.9603  19520101  0.31  37.0   \n",
       "1  GHCND:FIE00142080         51   60.3269    24.9603  19520102   NaN  35.0   \n",
       "2  GHCND:FIE00142080         51   60.3269    24.9603  19520103  0.14  33.0   \n",
       "3  GHCND:FIE00142080         51   60.3269    24.9603  19520104  0.05  29.0   \n",
       "4  GHCND:FIE00142080         51   60.3269    24.9603  19520105  0.06  27.0   \n",
       "\n",
       "   TMAX  TMIN  DATE_STR  YEAR YEAR_MONTH MONTH DAYS  temp_celsius  \n",
       "0  39.0  34.0  19520101  1952     195201    01   01      2.777778  \n",
       "1  37.0  34.0  19520102  1952     195201    01   02      1.666667  \n",
       "2  36.0   NaN  19520103  1952     195201    01   03      0.555556  \n",
       "3  30.0  25.0  19520104  1952     195201    01   04     -1.666667  \n",
       "4  30.0  25.0  19520105  1952     195201    01   05     -2.777778  "
      ]
     },
     "execution_count": 197,
     "metadata": {},
     "output_type": "execute_result"
    }
   ],
   "source": [
    "# to check that a unique key contains data of same month\n",
    "month = '01'\n",
    "group1 = grouped.get_group(month)\n",
    "group1.head()"
   ]
  },
  {
   "cell_type": "code",
   "execution_count": 198,
   "metadata": {},
   "outputs": [],
   "source": [
    "# we need to calculate mean values for each unique key/group\n",
    "mean_col = [\"temp_celsius\"]"
   ]
  },
  {
   "cell_type": "code",
   "execution_count": 199,
   "metadata": {},
   "outputs": [
    {
     "data": {
      "text/html": [
       "<div>\n",
       "<style scoped>\n",
       "    .dataframe tbody tr th:only-of-type {\n",
       "        vertical-align: middle;\n",
       "    }\n",
       "\n",
       "    .dataframe tbody tr th {\n",
       "        vertical-align: top;\n",
       "    }\n",
       "\n",
       "    .dataframe thead th {\n",
       "        text-align: right;\n",
       "    }\n",
       "</style>\n",
       "<table border=\"1\" class=\"dataframe\">\n",
       "  <thead>\n",
       "    <tr style=\"text-align: right;\">\n",
       "      <th></th>\n",
       "      <th>temp_celsius</th>\n",
       "    </tr>\n",
       "    <tr>\n",
       "      <th>MONTH</th>\n",
       "      <th></th>\n",
       "    </tr>\n",
       "  </thead>\n",
       "  <tbody>\n",
       "    <tr>\n",
       "      <th>01</th>\n",
       "      <td>-5.877342</td>\n",
       "    </tr>\n",
       "    <tr>\n",
       "      <th>02</th>\n",
       "      <td>-6.990482</td>\n",
       "    </tr>\n",
       "    <tr>\n",
       "      <th>03</th>\n",
       "      <td>-3.841270</td>\n",
       "    </tr>\n",
       "    <tr>\n",
       "      <th>04</th>\n",
       "      <td>2.427875</td>\n",
       "    </tr>\n",
       "    <tr>\n",
       "      <th>05</th>\n",
       "      <td>9.522613</td>\n",
       "    </tr>\n",
       "  </tbody>\n",
       "</table>\n",
       "</div>"
      ],
      "text/plain": [
       "       temp_celsius\n",
       "MONTH              \n",
       "01        -5.877342\n",
       "02        -6.990482\n",
       "03        -3.841270\n",
       "04         2.427875\n",
       "05         9.522613"
      ]
     },
     "execution_count": 199,
     "metadata": {},
     "output_type": "execute_result"
    }
   ],
   "source": [
    "\n",
    "\n",
    "\n",
    "reference_temp = grouped[mean_col].mean()\n",
    "\n",
    "reference_temp.head()\n"
   ]
  },
  {
   "cell_type": "code",
   "execution_count": 200,
   "metadata": {},
   "outputs": [
    {
     "data": {
      "text/html": [
       "<div>\n",
       "<style scoped>\n",
       "    .dataframe tbody tr th:only-of-type {\n",
       "        vertical-align: middle;\n",
       "    }\n",
       "\n",
       "    .dataframe tbody tr th {\n",
       "        vertical-align: top;\n",
       "    }\n",
       "\n",
       "    .dataframe thead th {\n",
       "        text-align: right;\n",
       "    }\n",
       "</style>\n",
       "<table border=\"1\" class=\"dataframe\">\n",
       "  <thead>\n",
       "    <tr style=\"text-align: right;\">\n",
       "      <th></th>\n",
       "      <th>ref_temp</th>\n",
       "    </tr>\n",
       "    <tr>\n",
       "      <th>MONTH</th>\n",
       "      <th></th>\n",
       "    </tr>\n",
       "  </thead>\n",
       "  <tbody>\n",
       "    <tr>\n",
       "      <th>01</th>\n",
       "      <td>-5.877342</td>\n",
       "    </tr>\n",
       "    <tr>\n",
       "      <th>02</th>\n",
       "      <td>-6.990482</td>\n",
       "    </tr>\n",
       "    <tr>\n",
       "      <th>03</th>\n",
       "      <td>-3.841270</td>\n",
       "    </tr>\n",
       "    <tr>\n",
       "      <th>04</th>\n",
       "      <td>2.427875</td>\n",
       "    </tr>\n",
       "    <tr>\n",
       "      <th>05</th>\n",
       "      <td>9.522613</td>\n",
       "    </tr>\n",
       "  </tbody>\n",
       "</table>\n",
       "</div>"
      ],
      "text/plain": [
       "       ref_temp\n",
       "MONTH          \n",
       "01    -5.877342\n",
       "02    -6.990482\n",
       "03    -3.841270\n",
       "04     2.427875\n",
       "05     9.522613"
      ]
     },
     "execution_count": 200,
     "metadata": {},
     "output_type": "execute_result"
    }
   ],
   "source": [
    "reference_temp = reference_temp.rename(columns = {\"temp_celsius\": \"ref_temp\"})\n",
    "reference_temp.head()"
   ]
  },
  {
   "cell_type": "code",
   "execution_count": 201,
   "metadata": {},
   "outputs": [
    {
     "data": {
      "text/plain": [
       "pandas.core.frame.DataFrame"
      ]
     },
     "execution_count": 201,
     "metadata": {},
     "output_type": "execute_result"
    }
   ],
   "source": [
    "type(reference_temp)"
   ]
  },
  {
   "cell_type": "code",
   "execution_count": 202,
   "metadata": {
    "deletable": false,
    "editable": false,
    "nbgrader": {
     "cell_type": "code",
     "checksum": "62c207f31e93d4acf7be882e988e402d",
     "grade": true,
     "grade_id": "problem_3_ag_p1_temperature_anomaly_test1",
     "locked": true,
     "points": 1,
     "schema_version": 3,
     "solution": false
    }
   },
   "outputs": [
    {
     "data": {
      "text/html": [
       "<div>\n",
       "<style scoped>\n",
       "    .dataframe tbody tr th:only-of-type {\n",
       "        vertical-align: middle;\n",
       "    }\n",
       "\n",
       "    .dataframe tbody tr th {\n",
       "        vertical-align: top;\n",
       "    }\n",
       "\n",
       "    .dataframe thead th {\n",
       "        text-align: right;\n",
       "    }\n",
       "</style>\n",
       "<table border=\"1\" class=\"dataframe\">\n",
       "  <thead>\n",
       "    <tr style=\"text-align: right;\">\n",
       "      <th></th>\n",
       "      <th>temp_celsius</th>\n",
       "      <th>YEAR_MONTH</th>\n",
       "      <th>MONTH</th>\n",
       "    </tr>\n",
       "  </thead>\n",
       "  <tbody>\n",
       "    <tr>\n",
       "      <th>0</th>\n",
       "      <td>-1.400966</td>\n",
       "      <td>195201</td>\n",
       "      <td>01</td>\n",
       "    </tr>\n",
       "    <tr>\n",
       "      <th>1</th>\n",
       "      <td>-4.0</td>\n",
       "      <td>195202</td>\n",
       "      <td>02</td>\n",
       "    </tr>\n",
       "    <tr>\n",
       "      <th>2</th>\n",
       "      <td>-10.106838</td>\n",
       "      <td>195203</td>\n",
       "      <td>03</td>\n",
       "    </tr>\n",
       "    <tr>\n",
       "      <th>3</th>\n",
       "      <td>4.22619</td>\n",
       "      <td>195204</td>\n",
       "      <td>04</td>\n",
       "    </tr>\n",
       "    <tr>\n",
       "      <th>4</th>\n",
       "      <td>7.037037</td>\n",
       "      <td>195205</td>\n",
       "      <td>05</td>\n",
       "    </tr>\n",
       "  </tbody>\n",
       "</table>\n",
       "</div>"
      ],
      "text/plain": [
       "  temp_celsius YEAR_MONTH MONTH\n",
       "0    -1.400966     195201    01\n",
       "1         -4.0     195202    02\n",
       "2   -10.106838     195203    03\n",
       "3      4.22619     195204    04\n",
       "4     7.037037     195205    05"
      ]
     },
     "execution_count": 202,
     "metadata": {},
     "output_type": "execute_result"
    }
   ],
   "source": [
    "# Check the monthly data:\n",
    "monthly_data.head()"
   ]
  },
  {
   "cell_type": "code",
   "execution_count": 203,
   "metadata": {},
   "outputs": [
    {
     "data": {
      "text/html": [
       "<div>\n",
       "<style scoped>\n",
       "    .dataframe tbody tr th:only-of-type {\n",
       "        vertical-align: middle;\n",
       "    }\n",
       "\n",
       "    .dataframe tbody tr th {\n",
       "        vertical-align: top;\n",
       "    }\n",
       "\n",
       "    .dataframe thead th {\n",
       "        text-align: right;\n",
       "    }\n",
       "</style>\n",
       "<table border=\"1\" class=\"dataframe\">\n",
       "  <thead>\n",
       "    <tr style=\"text-align: right;\">\n",
       "      <th></th>\n",
       "      <th>MONTH</th>\n",
       "      <th>ref_temp</th>\n",
       "      <th>temp_celsius</th>\n",
       "      <th>YEAR_MONTH</th>\n",
       "    </tr>\n",
       "  </thead>\n",
       "  <tbody>\n",
       "    <tr>\n",
       "      <th>0</th>\n",
       "      <td>01</td>\n",
       "      <td>-5.877342</td>\n",
       "      <td>-1.400966</td>\n",
       "      <td>195201</td>\n",
       "    </tr>\n",
       "    <tr>\n",
       "      <th>1</th>\n",
       "      <td>01</td>\n",
       "      <td>-5.877342</td>\n",
       "      <td>-5.396825</td>\n",
       "      <td>195301</td>\n",
       "    </tr>\n",
       "    <tr>\n",
       "      <th>2</th>\n",
       "      <td>01</td>\n",
       "      <td>-5.877342</td>\n",
       "      <td>-7.07265</td>\n",
       "      <td>195401</td>\n",
       "    </tr>\n",
       "    <tr>\n",
       "      <th>3</th>\n",
       "      <td>01</td>\n",
       "      <td>-5.877342</td>\n",
       "      <td>-5.473251</td>\n",
       "      <td>195501</td>\n",
       "    </tr>\n",
       "    <tr>\n",
       "      <th>4</th>\n",
       "      <td>01</td>\n",
       "      <td>-5.877342</td>\n",
       "      <td>-8.133333</td>\n",
       "      <td>195601</td>\n",
       "    </tr>\n",
       "    <tr>\n",
       "      <th>...</th>\n",
       "      <td>...</td>\n",
       "      <td>...</td>\n",
       "      <td>...</td>\n",
       "      <td>...</td>\n",
       "    </tr>\n",
       "    <tr>\n",
       "      <th>785</th>\n",
       "      <td>12</td>\n",
       "      <td>-4.168044</td>\n",
       "      <td>-6.630824</td>\n",
       "      <td>201212</td>\n",
       "    </tr>\n",
       "    <tr>\n",
       "      <th>786</th>\n",
       "      <td>12</td>\n",
       "      <td>-4.168044</td>\n",
       "      <td>1.362007</td>\n",
       "      <td>201312</td>\n",
       "    </tr>\n",
       "    <tr>\n",
       "      <th>787</th>\n",
       "      <td>12</td>\n",
       "      <td>-4.168044</td>\n",
       "      <td>-1.146953</td>\n",
       "      <td>201412</td>\n",
       "    </tr>\n",
       "    <tr>\n",
       "      <th>788</th>\n",
       "      <td>12</td>\n",
       "      <td>-4.168044</td>\n",
       "      <td>2.204301</td>\n",
       "      <td>201512</td>\n",
       "    </tr>\n",
       "    <tr>\n",
       "      <th>789</th>\n",
       "      <td>12</td>\n",
       "      <td>-4.168044</td>\n",
       "      <td>-0.78853</td>\n",
       "      <td>201612</td>\n",
       "    </tr>\n",
       "  </tbody>\n",
       "</table>\n",
       "<p>790 rows × 4 columns</p>\n",
       "</div>"
      ],
      "text/plain": [
       "    MONTH  ref_temp temp_celsius YEAR_MONTH\n",
       "0      01 -5.877342    -1.400966     195201\n",
       "1      01 -5.877342    -5.396825     195301\n",
       "2      01 -5.877342     -7.07265     195401\n",
       "3      01 -5.877342    -5.473251     195501\n",
       "4      01 -5.877342    -8.133333     195601\n",
       "..    ...       ...          ...        ...\n",
       "785    12 -4.168044    -6.630824     201212\n",
       "786    12 -4.168044     1.362007     201312\n",
       "787    12 -4.168044    -1.146953     201412\n",
       "788    12 -4.168044     2.204301     201512\n",
       "789    12 -4.168044     -0.78853     201612\n",
       "\n",
       "[790 rows x 4 columns]"
      ]
     },
     "execution_count": 203,
     "metadata": {},
     "output_type": "execute_result"
    }
   ],
   "source": [
    "join1= reference_temp.merge(monthly_data, on = \"MONTH\")\n",
    "join1"
   ]
  },
  {
   "cell_type": "code",
   "execution_count": 204,
   "metadata": {},
   "outputs": [],
   "source": [
    "join1[\"DIFF\"] = join1[\"temp_celsius\"]- join1[\"ref_temp\"]"
   ]
  },
  {
   "cell_type": "code",
   "execution_count": 205,
   "metadata": {},
   "outputs": [
    {
     "data": {
      "text/html": [
       "<div>\n",
       "<style scoped>\n",
       "    .dataframe tbody tr th:only-of-type {\n",
       "        vertical-align: middle;\n",
       "    }\n",
       "\n",
       "    .dataframe tbody tr th {\n",
       "        vertical-align: top;\n",
       "    }\n",
       "\n",
       "    .dataframe thead th {\n",
       "        text-align: right;\n",
       "    }\n",
       "</style>\n",
       "<table border=\"1\" class=\"dataframe\">\n",
       "  <thead>\n",
       "    <tr style=\"text-align: right;\">\n",
       "      <th></th>\n",
       "      <th>MONTH</th>\n",
       "      <th>ref_temp</th>\n",
       "      <th>temp_celsius</th>\n",
       "      <th>YEAR_MONTH</th>\n",
       "      <th>DIFF</th>\n",
       "    </tr>\n",
       "  </thead>\n",
       "  <tbody>\n",
       "    <tr>\n",
       "      <th>0</th>\n",
       "      <td>01</td>\n",
       "      <td>-5.877342</td>\n",
       "      <td>-1.400966</td>\n",
       "      <td>195201</td>\n",
       "      <td>4.476376</td>\n",
       "    </tr>\n",
       "    <tr>\n",
       "      <th>1</th>\n",
       "      <td>01</td>\n",
       "      <td>-5.877342</td>\n",
       "      <td>-5.396825</td>\n",
       "      <td>195301</td>\n",
       "      <td>0.480517</td>\n",
       "    </tr>\n",
       "    <tr>\n",
       "      <th>2</th>\n",
       "      <td>01</td>\n",
       "      <td>-5.877342</td>\n",
       "      <td>-7.07265</td>\n",
       "      <td>195401</td>\n",
       "      <td>-1.195307</td>\n",
       "    </tr>\n",
       "    <tr>\n",
       "      <th>3</th>\n",
       "      <td>01</td>\n",
       "      <td>-5.877342</td>\n",
       "      <td>-5.473251</td>\n",
       "      <td>195501</td>\n",
       "      <td>0.404091</td>\n",
       "    </tr>\n",
       "    <tr>\n",
       "      <th>4</th>\n",
       "      <td>01</td>\n",
       "      <td>-5.877342</td>\n",
       "      <td>-8.133333</td>\n",
       "      <td>195601</td>\n",
       "      <td>-2.255991</td>\n",
       "    </tr>\n",
       "    <tr>\n",
       "      <th>...</th>\n",
       "      <td>...</td>\n",
       "      <td>...</td>\n",
       "      <td>...</td>\n",
       "      <td>...</td>\n",
       "      <td>...</td>\n",
       "    </tr>\n",
       "    <tr>\n",
       "      <th>785</th>\n",
       "      <td>12</td>\n",
       "      <td>-4.168044</td>\n",
       "      <td>-6.630824</td>\n",
       "      <td>201212</td>\n",
       "      <td>-2.46278</td>\n",
       "    </tr>\n",
       "    <tr>\n",
       "      <th>786</th>\n",
       "      <td>12</td>\n",
       "      <td>-4.168044</td>\n",
       "      <td>1.362007</td>\n",
       "      <td>201312</td>\n",
       "      <td>5.530051</td>\n",
       "    </tr>\n",
       "    <tr>\n",
       "      <th>787</th>\n",
       "      <td>12</td>\n",
       "      <td>-4.168044</td>\n",
       "      <td>-1.146953</td>\n",
       "      <td>201412</td>\n",
       "      <td>3.021091</td>\n",
       "    </tr>\n",
       "    <tr>\n",
       "      <th>788</th>\n",
       "      <td>12</td>\n",
       "      <td>-4.168044</td>\n",
       "      <td>2.204301</td>\n",
       "      <td>201512</td>\n",
       "      <td>6.372345</td>\n",
       "    </tr>\n",
       "    <tr>\n",
       "      <th>789</th>\n",
       "      <td>12</td>\n",
       "      <td>-4.168044</td>\n",
       "      <td>-0.78853</td>\n",
       "      <td>201612</td>\n",
       "      <td>3.379514</td>\n",
       "    </tr>\n",
       "  </tbody>\n",
       "</table>\n",
       "<p>790 rows × 5 columns</p>\n",
       "</div>"
      ],
      "text/plain": [
       "    MONTH  ref_temp temp_celsius YEAR_MONTH      DIFF\n",
       "0      01 -5.877342    -1.400966     195201  4.476376\n",
       "1      01 -5.877342    -5.396825     195301  0.480517\n",
       "2      01 -5.877342     -7.07265     195401 -1.195307\n",
       "3      01 -5.877342    -5.473251     195501  0.404091\n",
       "4      01 -5.877342    -8.133333     195601 -2.255991\n",
       "..    ...       ...          ...        ...       ...\n",
       "785    12 -4.168044    -6.630824     201212  -2.46278\n",
       "786    12 -4.168044     1.362007     201312  5.530051\n",
       "787    12 -4.168044    -1.146953     201412  3.021091\n",
       "788    12 -4.168044     2.204301     201512  6.372345\n",
       "789    12 -4.168044     -0.78853     201612  3.379514\n",
       "\n",
       "[790 rows x 5 columns]"
      ]
     },
     "execution_count": 205,
     "metadata": {},
     "output_type": "execute_result"
    }
   ],
   "source": [
    "join1"
   ]
  },
  {
   "cell_type": "code",
   "execution_count": 206,
   "metadata": {},
   "outputs": [
    {
     "data": {
      "text/html": [
       "<div>\n",
       "<style scoped>\n",
       "    .dataframe tbody tr th:only-of-type {\n",
       "        vertical-align: middle;\n",
       "    }\n",
       "\n",
       "    .dataframe tbody tr th {\n",
       "        vertical-align: top;\n",
       "    }\n",
       "\n",
       "    .dataframe thead th {\n",
       "        text-align: right;\n",
       "    }\n",
       "</style>\n",
       "<table border=\"1\" class=\"dataframe\">\n",
       "  <thead>\n",
       "    <tr style=\"text-align: right;\">\n",
       "      <th></th>\n",
       "      <th>MONTH</th>\n",
       "      <th>ref_temp</th>\n",
       "      <th>temp_celsius</th>\n",
       "      <th>YEAR_MONTH</th>\n",
       "      <th>DIFF</th>\n",
       "    </tr>\n",
       "  </thead>\n",
       "  <tbody>\n",
       "    <tr>\n",
       "      <th>454</th>\n",
       "      <td>07</td>\n",
       "      <td>16.498881</td>\n",
       "      <td>22.329749</td>\n",
       "      <td>201007</td>\n",
       "      <td>5.830868</td>\n",
       "    </tr>\n",
       "    <tr>\n",
       "      <th>455</th>\n",
       "      <td>07</td>\n",
       "      <td>16.498881</td>\n",
       "      <td>20.78853</td>\n",
       "      <td>201107</td>\n",
       "      <td>4.289649</td>\n",
       "    </tr>\n",
       "    <tr>\n",
       "      <th>445</th>\n",
       "      <td>07</td>\n",
       "      <td>16.498881</td>\n",
       "      <td>20.412186</td>\n",
       "      <td>200107</td>\n",
       "      <td>3.913305</td>\n",
       "    </tr>\n",
       "    <tr>\n",
       "      <th>447</th>\n",
       "      <td>07</td>\n",
       "      <td>16.498881</td>\n",
       "      <td>20.322581</td>\n",
       "      <td>200307</td>\n",
       "      <td>3.823699</td>\n",
       "    </tr>\n",
       "    <tr>\n",
       "      <th>458</th>\n",
       "      <td>07</td>\n",
       "      <td>16.498881</td>\n",
       "      <td>19.982079</td>\n",
       "      <td>201407</td>\n",
       "      <td>3.483197</td>\n",
       "    </tr>\n",
       "    <tr>\n",
       "      <th>...</th>\n",
       "      <td>...</td>\n",
       "      <td>...</td>\n",
       "      <td>...</td>\n",
       "      <td>...</td>\n",
       "      <td>...</td>\n",
       "    </tr>\n",
       "    <tr>\n",
       "      <th>741</th>\n",
       "      <td>12</td>\n",
       "      <td>-4.168044</td>\n",
       "      <td>NaN</td>\n",
       "      <td>196812</td>\n",
       "      <td>NaN</td>\n",
       "    </tr>\n",
       "    <tr>\n",
       "      <th>742</th>\n",
       "      <td>12</td>\n",
       "      <td>-4.168044</td>\n",
       "      <td>NaN</td>\n",
       "      <td>196912</td>\n",
       "      <td>NaN</td>\n",
       "    </tr>\n",
       "    <tr>\n",
       "      <th>743</th>\n",
       "      <td>12</td>\n",
       "      <td>-4.168044</td>\n",
       "      <td>NaN</td>\n",
       "      <td>197012</td>\n",
       "      <td>NaN</td>\n",
       "    </tr>\n",
       "    <tr>\n",
       "      <th>744</th>\n",
       "      <td>12</td>\n",
       "      <td>-4.168044</td>\n",
       "      <td>NaN</td>\n",
       "      <td>197112</td>\n",
       "      <td>NaN</td>\n",
       "    </tr>\n",
       "    <tr>\n",
       "      <th>745</th>\n",
       "      <td>12</td>\n",
       "      <td>-4.168044</td>\n",
       "      <td>NaN</td>\n",
       "      <td>197212</td>\n",
       "      <td>NaN</td>\n",
       "    </tr>\n",
       "  </tbody>\n",
       "</table>\n",
       "<p>790 rows × 5 columns</p>\n",
       "</div>"
      ],
      "text/plain": [
       "    MONTH   ref_temp temp_celsius YEAR_MONTH      DIFF\n",
       "454    07  16.498881    22.329749     201007  5.830868\n",
       "455    07  16.498881     20.78853     201107  4.289649\n",
       "445    07  16.498881    20.412186     200107  3.913305\n",
       "447    07  16.498881    20.322581     200307  3.823699\n",
       "458    07  16.498881    19.982079     201407  3.483197\n",
       "..    ...        ...          ...        ...       ...\n",
       "741    12  -4.168044          NaN     196812       NaN\n",
       "742    12  -4.168044          NaN     196912       NaN\n",
       "743    12  -4.168044          NaN     197012       NaN\n",
       "744    12  -4.168044          NaN     197112       NaN\n",
       "745    12  -4.168044          NaN     197212       NaN\n",
       "\n",
       "[790 rows x 5 columns]"
      ]
     },
     "execution_count": 206,
     "metadata": {},
     "output_type": "execute_result"
    }
   ],
   "source": [
    "join1.sort_values(by =\"temp_celsius\", ascending =False  )"
   ]
  },
  {
   "cell_type": "markdown",
   "metadata": {
    "deletable": false,
    "editable": false,
    "nbgrader": {
     "cell_type": "markdown",
     "checksum": "26c896552bd7468608a123f5ab321b18",
     "grade": false,
     "grade_id": "cell-bf1e120de1e8386e",
     "locked": true,
     "schema_version": 3,
     "solution": false,
     "task": false
    }
   },
   "source": [
    "Remember also to calculate which month had the largest temperature anomaly during the observed time period in comparison with the reference data. Use the cell below to calculate and print out the answers. Note, you may want to consider the largest absolute value of the temperature anomaly, as well as the largest positive and negative anomalies."
   ]
  },
  {
   "cell_type": "code",
   "execution_count": 207,
   "metadata": {
    "deletable": false,
    "nbgrader": {
     "cell_type": "code",
     "checksum": "e1c152b58226fca2c1d60600220754ca",
     "grade": true,
     "grade_id": "problem_3_mg_p2_extra_question",
     "locked": false,
     "points": 0,
     "schema_version": 3,
     "solution": true,
     "task": false
    }
   },
   "outputs": [
    {
     "name": "stdout",
     "output_type": "stream",
     "text": [
      "The warmest temperature is: 22.33 degree celsius in the year 201007  with a temperature anomaly of 5.83 degree celsius\n"
     ]
    }
   ],
   "source": [
    "# YOUR CODE HERE\n",
    "warmest_temp = round(join1.at[454, \"temp_celsius\"],2)\n",
    "warmest_month = join1.at[454,\"YEAR_MONTH\"]\n",
    "temp_anomaly = round(join1.at[454,\"DIFF\"],2)\n",
    "print(f\"The warmest temperature is: {warmest_temp} degree celsius in the year {warmest_month}  with a temperature anomaly of {temp_anomaly} degree celsius\")"
   ]
  },
  {
   "cell_type": "code",
   "execution_count": 208,
   "metadata": {},
   "outputs": [
    {
     "data": {
      "text/html": [
       "<div>\n",
       "<style scoped>\n",
       "    .dataframe tbody tr th:only-of-type {\n",
       "        vertical-align: middle;\n",
       "    }\n",
       "\n",
       "    .dataframe tbody tr th {\n",
       "        vertical-align: top;\n",
       "    }\n",
       "\n",
       "    .dataframe thead th {\n",
       "        text-align: right;\n",
       "    }\n",
       "</style>\n",
       "<table border=\"1\" class=\"dataframe\">\n",
       "  <thead>\n",
       "    <tr style=\"text-align: right;\">\n",
       "      <th></th>\n",
       "      <th>MONTH</th>\n",
       "      <th>ref_temp</th>\n",
       "      <th>temp_celsius</th>\n",
       "      <th>YEAR_MONTH</th>\n",
       "      <th>DIFF</th>\n",
       "    </tr>\n",
       "  </thead>\n",
       "  <tbody>\n",
       "    <tr>\n",
       "      <th>35</th>\n",
       "      <td>01</td>\n",
       "      <td>-5.877342</td>\n",
       "      <td>-17.97491</td>\n",
       "      <td>198701</td>\n",
       "      <td>-12.097568</td>\n",
       "    </tr>\n",
       "    <tr>\n",
       "      <th>33</th>\n",
       "      <td>01</td>\n",
       "      <td>-5.877342</td>\n",
       "      <td>-15.519713</td>\n",
       "      <td>198501</td>\n",
       "      <td>-9.642371</td>\n",
       "    </tr>\n",
       "    <tr>\n",
       "      <th>99</th>\n",
       "      <td>02</td>\n",
       "      <td>-6.990482</td>\n",
       "      <td>-15.119048</td>\n",
       "      <td>198502</td>\n",
       "      <td>-8.128566</td>\n",
       "    </tr>\n",
       "    <tr>\n",
       "      <th>70</th>\n",
       "      <td>02</td>\n",
       "      <td>-6.990482</td>\n",
       "      <td>-14.550265</td>\n",
       "      <td>195602</td>\n",
       "      <td>-7.559782</td>\n",
       "    </tr>\n",
       "    <tr>\n",
       "      <th>108</th>\n",
       "      <td>02</td>\n",
       "      <td>-6.990482</td>\n",
       "      <td>-12.956349</td>\n",
       "      <td>199402</td>\n",
       "      <td>-5.965867</td>\n",
       "    </tr>\n",
       "    <tr>\n",
       "      <th>...</th>\n",
       "      <td>...</td>\n",
       "      <td>...</td>\n",
       "      <td>...</td>\n",
       "      <td>...</td>\n",
       "      <td>...</td>\n",
       "    </tr>\n",
       "    <tr>\n",
       "      <th>741</th>\n",
       "      <td>12</td>\n",
       "      <td>-4.168044</td>\n",
       "      <td>NaN</td>\n",
       "      <td>196812</td>\n",
       "      <td>NaN</td>\n",
       "    </tr>\n",
       "    <tr>\n",
       "      <th>742</th>\n",
       "      <td>12</td>\n",
       "      <td>-4.168044</td>\n",
       "      <td>NaN</td>\n",
       "      <td>196912</td>\n",
       "      <td>NaN</td>\n",
       "    </tr>\n",
       "    <tr>\n",
       "      <th>743</th>\n",
       "      <td>12</td>\n",
       "      <td>-4.168044</td>\n",
       "      <td>NaN</td>\n",
       "      <td>197012</td>\n",
       "      <td>NaN</td>\n",
       "    </tr>\n",
       "    <tr>\n",
       "      <th>744</th>\n",
       "      <td>12</td>\n",
       "      <td>-4.168044</td>\n",
       "      <td>NaN</td>\n",
       "      <td>197112</td>\n",
       "      <td>NaN</td>\n",
       "    </tr>\n",
       "    <tr>\n",
       "      <th>745</th>\n",
       "      <td>12</td>\n",
       "      <td>-4.168044</td>\n",
       "      <td>NaN</td>\n",
       "      <td>197212</td>\n",
       "      <td>NaN</td>\n",
       "    </tr>\n",
       "  </tbody>\n",
       "</table>\n",
       "<p>790 rows × 5 columns</p>\n",
       "</div>"
      ],
      "text/plain": [
       "    MONTH  ref_temp temp_celsius YEAR_MONTH       DIFF\n",
       "35     01 -5.877342    -17.97491     198701 -12.097568\n",
       "33     01 -5.877342   -15.519713     198501  -9.642371\n",
       "99     02 -6.990482   -15.119048     198502  -8.128566\n",
       "70     02 -6.990482   -14.550265     195602  -7.559782\n",
       "108    02 -6.990482   -12.956349     199402  -5.965867\n",
       "..    ...       ...          ...        ...        ...\n",
       "741    12 -4.168044          NaN     196812        NaN\n",
       "742    12 -4.168044          NaN     196912        NaN\n",
       "743    12 -4.168044          NaN     197012        NaN\n",
       "744    12 -4.168044          NaN     197112        NaN\n",
       "745    12 -4.168044          NaN     197212        NaN\n",
       "\n",
       "[790 rows x 5 columns]"
      ]
     },
     "execution_count": 208,
     "metadata": {},
     "output_type": "execute_result"
    }
   ],
   "source": [
    "join1.sort_values(by = \"temp_celsius\", ascending = True)"
   ]
  },
  {
   "cell_type": "markdown",
   "metadata": {
    "deletable": false,
    "editable": false,
    "nbgrader": {
     "cell_type": "markdown",
     "checksum": "05d75271b13f8fd543895353efb8b61c",
     "grade": false,
     "grade_id": "cell-99d62d1b7e475fd6",
     "locked": true,
     "schema_version": 3,
     "solution": false
    }
   },
   "source": [
    "### On to Problem 4 (*optional*)\n",
    "\n",
    "Now you can continue to the *optional* [Problem 4](Exercise-6-problem-4.ipynb)"
   ]
  },
  {
   "cell_type": "code",
   "execution_count": 209,
   "metadata": {},
   "outputs": [],
   "source": [
    "coldest_temp = join1.at[35, \"temp_celsius\"]\n",
    "coldest_year = join1.at[35,\"YEAR_MONTH\"]"
   ]
  },
  {
   "cell_type": "code",
   "execution_count": 210,
   "metadata": {},
   "outputs": [
    {
     "name": "stdout",
     "output_type": "stream",
     "text": [
      "The coldest temperature is -17.97491039426523 in the year 198701\n"
     ]
    }
   ],
   "source": [
    "print(f\"The coldest temperature is {coldest_temp} in the year {coldest_year}\")"
   ]
  },
  {
   "cell_type": "code",
   "execution_count": null,
   "metadata": {},
   "outputs": [],
   "source": []
  }
 ],
 "metadata": {
  "kernelspec": {
   "display_name": "Python 3 (ipykernel)",
   "language": "python",
   "name": "python3"
  },
  "language_info": {
   "codemirror_mode": {
    "name": "ipython",
    "version": 3
   },
   "file_extension": ".py",
   "mimetype": "text/x-python",
   "name": "python",
   "nbconvert_exporter": "python",
   "pygments_lexer": "ipython3",
   "version": "3.10.8"
  }
 },
 "nbformat": 4,
 "nbformat_minor": 4
}
